{
 "cells": [
  {
   "cell_type": "markdown",
   "id": "1849d7c3-72a4-41a3-bd64-f996279faf56",
   "metadata": {},
   "source": [
    "# Chapter 8: Basic programming"
   ]
  },
  {
   "cell_type": "markdown",
   "id": "a42121ac-1a4e-472f-922a-0253722802a1",
   "metadata": {},
   "source": [
    "Some programs, like Visual Studio Code, allow you to run Jupyter Notebooks inside an IDE."
   ]
  },
  {
   "cell_type": "markdown",
   "id": "212f2967-fc4b-44dd-a1d0-4a6d7b29a10d",
   "metadata": {},
   "source": [
    "## Loops\n",
    "\n",
    "### While loop = loops until a condition has been met (i.e. conditional)\n",
    "\n",
    "### For loop = loop until you're through the finite number of items e.g. four times (i.e. not conditional)\n"
   ]
  },
  {
   "cell_type": "code",
   "execution_count": 1,
   "id": "fd235977-dfb0-4814-8106-c7a5bfda01c3",
   "metadata": {},
   "outputs": [
    {
     "name": "stdout",
     "output_type": "stream",
     "text": [
      "I have added 1 spoons of sugar\n",
      "I have added 2 spoons of sugar\n",
      "I have added 3 spoons of sugar\n"
     ]
    }
   ],
   "source": [
    "# while loop\n",
    "sweet_enough = 3\n",
    "num_sugar_spoons = 0\n",
    "\n",
    "while num_sugar_spoons < sweet_enough:\n",
    "    num_sugar_spoons = num_sugar_spoons + 1\n",
    "    print('I have added', num_sugar_spoons, 'spoons of sugar')"
   ]
  },
  {
   "cell_type": "code",
   "execution_count": 4,
   "id": "cd5d2556-5d0e-44cd-8a3c-4216040955ac",
   "metadata": {},
   "outputs": [
    {
     "name": "stdout",
     "output_type": "stream",
     "text": [
      "I cracked an egg\n",
      "I cracked an egg\n",
      "I cracked an egg\n"
     ]
    }
   ],
   "source": [
    "# for loop\n",
    "eggs = ['egg', 'egg', 'egg']\n",
    "\n",
    "for egg in eggs:\n",
    "    print('I cracked an ' + egg)"
   ]
  },
  {
   "cell_type": "code",
   "execution_count": 5,
   "id": "dd9955ef-5130-423e-bf7a-49cf2cb13d36",
   "metadata": {},
   "outputs": [
    {
     "name": "stdout",
     "output_type": "stream",
     "text": [
      "I cracked an egg!\n",
      "I cracked an egg!\n",
      "I cracked an egg!\n"
     ]
    }
   ],
   "source": [
    "# for loop\n",
    "eggs = ['egg', 'egg', 'egg']\n",
    "\n",
    "for egg in eggs:\n",
    "    print('I cracked an egg!')\n"
   ]
  },
  {
   "cell_type": "code",
   "execution_count": 6,
   "id": "50e0e284-6ca6-41b8-a519-8674be04ef57",
   "metadata": {},
   "outputs": [
    {
     "name": "stdout",
     "output_type": "stream",
     "text": [
      "I added eggs\n",
      "I added flour\n",
      "I added sugar\n",
      "I added cinnamon\n",
      "I added salt\n"
     ]
    }
   ],
   "source": [
    "# for loop\n",
    "ingredients = ['eggs', 'flour', 'sugar', 'cinnamon', 'salt']\n",
    "\n",
    "for item in ingredients:\n",
    "    print('I added', item)"
   ]
  },
  {
   "cell_type": "code",
   "execution_count": 7,
   "id": "b6ca1767-3e37-4245-938d-ceb424424ab7",
   "metadata": {},
   "outputs": [
    {
     "name": "stdout",
     "output_type": "stream",
     "text": [
      "There are 4 letters in EGGS\n",
      "There are 5 letters in FLOUR\n",
      "There are 5 letters in SUGAR\n",
      "There are 8 letters in CINNAMON\n",
      "There are 4 letters in SALT\n"
     ]
    }
   ],
   "source": [
    "# for loop\n",
    "words = ['eggs', 'flour', 'sugar', 'cinnamon', 'salt']\n",
    "\n",
    "for word in words:\n",
    "    print('There are', len(word), 'letters in', word.upper())"
   ]
  },
  {
   "cell_type": "markdown",
   "id": "85362e52-0144-4b77-9ef2-308dafa049a8",
   "metadata": {},
   "source": [
    "## Conditional statements\n"
   ]
  },
  {
   "cell_type": "code",
   "execution_count": 8,
   "id": "69081afb-3322-4b2e-b0f8-8647fd457fd1",
   "metadata": {},
   "outputs": [
    {
     "name": "stdout",
     "output_type": "stream",
     "text": [
      "Leave early!\n"
     ]
    }
   ],
   "source": [
    "# a conditional statement\n",
    "day = 'Wednesday'\n",
    "\n",
    "if day == 'Wednesday':\n",
    "    print('Leave early!')"
   ]
  },
  {
   "cell_type": "code",
   "execution_count": 9,
   "id": "42814f60-86aa-4367-ab84-327257e350b2",
   "metadata": {},
   "outputs": [
    {
     "name": "stdout",
     "output_type": "stream",
     "text": [
      "Today is Monday. You can leave at the normal time today.\n",
      "Today is Tuesday. You can leave at the normal time today.\n",
      "Today is Wednesday. You need to leave early!\n",
      "Today is Wednesday. You can leave at the normal time today.\n",
      "Today is Thursday. You can leave at the normal time today.\n",
      "Today is Friday. You can leave at the normal time today.\n",
      "Today is Saturday. You can sleep late!\n",
      "Today is Sunday. You can sleep late!\n"
     ]
    }
   ],
   "source": [
    "# more complex conditional statement\n",
    "week = ['Monday', 'Tuesday', 'Wednesday', 'Thursday', 'Friday', 'Saturday', 'Sunday']\n",
    "\n",
    "for day in week:\n",
    "    if day == 'Wednesday':\n",
    "        print('Today is', day + '.', 'You need to leave early!')\n",
    "    if day == 'Saturday' or day == 'Sunday':\n",
    "            print('Today is', day + '.', 'You can sleep late!')\n",
    "    else:\n",
    "        print('Today is', day + '.', 'You can leave at the normal time today.')"
   ]
  },
  {
   "cell_type": "markdown",
   "id": "10619ccb-6044-46e0-bf4e-4ee10e8409c9",
   "metadata": {},
   "source": [
    "## Functions\n"
   ]
  },
  {
   "cell_type": "code",
   "execution_count": 13,
   "id": "b2da457f-6c3a-49ae-b4ec-1be6f5267790",
   "metadata": {},
   "outputs": [
    {
     "name": "stdout",
     "output_type": "stream",
     "text": [
      "There are 3 letters in CAT\n"
     ]
    }
   ],
   "source": [
    "# making a function that can count letters in a word\n",
    "def measure_word(word):\n",
    "    letter_count = 0\n",
    "    for letter in word:\n",
    "        letter_count = letter_count + 1\n",
    "    print('There are', letter_count, 'letters in', word.upper())\n",
    "\n",
    "measure_word('cat') # remember quotation marks"
   ]
  },
  {
   "cell_type": "code",
   "execution_count": 19,
   "id": "e62df6e9-03bb-464a-a835-84702cff426f",
   "metadata": {},
   "outputs": [
    {
     "data": {
      "text/plain": [
       "tuple"
      ]
     },
     "execution_count": 19,
     "metadata": {},
     "output_type": "execute_result"
    }
   ],
   "source": [
    "# return a variable instead of just printing\n",
    "def measure_word(word):\n",
    "    letter_count = 0\n",
    "    for letter in word:\n",
    "        letter_count = letter_count + 1\n",
    "    return('There are', letter_count, 'letters in', word.upper())\n",
    "\n",
    "# use function on word\n",
    "output = measure_word('cat')\n",
    "\n",
    "# see which variable type the output is\n",
    "type(output)\n"
   ]
  },
  {
   "cell_type": "code",
   "execution_count": 18,
   "id": "d9bae724-c499-42a9-a4ca-788ccf65e354",
   "metadata": {},
   "outputs": [
    {
     "name": "stdout",
     "output_type": "stream",
     "text": [
      "('There are', 3, 'letters in', 'CAT')\n"
     ]
    }
   ],
   "source": [
    "# print output\n",
    "print(output)"
   ]
  },
  {
   "cell_type": "code",
   "execution_count": 20,
   "id": "c82ac397-6d0c-4448-9bcb-bacc647a731d",
   "metadata": {},
   "outputs": [
    {
     "data": {
      "text/plain": [
       "3"
      ]
     },
     "execution_count": 20,
     "metadata": {},
     "output_type": "execute_result"
    }
   ],
   "source": [
    "# just return the amount of letters\n",
    "measure_word('cat')[1]"
   ]
  },
  {
   "cell_type": "code",
   "execution_count": 3,
   "id": "6c420a93-fc8e-4ea5-a6ad-4b750c0ae079",
   "metadata": {},
   "outputs": [
    {
     "name": "stdout",
     "output_type": "stream",
     "text": [
      "('If', 'i', 2)\n",
      "('you', 'y', 3)\n",
      "('say', 's', 3)\n",
      "('it', 'i', 2)\n",
      "('loud', 'l', 4)\n",
      "('enough', 'e', 6)\n",
      "('you', 'y', 3)\n",
      "('will', 'w', 4)\n",
      "('always', 'a', 6)\n",
      "('sound', 's', 5)\n",
      "('precocious', 'p', 10)\n"
     ]
    }
   ],
   "source": [
    "# even more complex function\n",
    "def measure_word(word):\n",
    "    first_letter = word[0].lower()\n",
    "    letter_count = 0\n",
    "    for letter in word:\n",
    "        letter_count = letter_count + 1\n",
    "    return(word,first_letter, letter_count)\n",
    "\n",
    "# input words\n",
    "words = [ 'If', 'you', 'say', 'it', 'loud', 'enough', 'you', 'will', 'always', 'sound', 'precocious']\n",
    "\n",
    "for word in words:\n",
    "    print(measure_word(word))"
   ]
  },
  {
   "cell_type": "markdown",
   "id": "82406a59-613d-4369-a764-ddb065352cd3",
   "metadata": {},
   "source": [
    "## List comprehensions: a different kind of loop\n",
    "\n",
    "### You perform some function for every item in the old list, and put the output in the new list.\n"
   ]
  },
  {
   "cell_type": "code",
   "execution_count": 4,
   "id": "b86fffcd-48c2-4558-8a1f-a04943dc5a07",
   "metadata": {},
   "outputs": [
    {
     "name": "stdout",
     "output_type": "stream",
     "text": [
      "['If', 'you', 'say', 'it', 'loud', 'enough', 'you', 'will', 'always', 'sound', 'precocious']\n"
     ]
    }
   ],
   "source": [
    "# make a new list that has all the same elements as the old list\n",
    "words = [ 'If', 'you', 'say', 'it', 'loud', 'enough', 'you', 'will', 'always', 'sound', 'precocious']\n",
    "new_words = [x for x in words]\n",
    "print(new_words)"
   ]
  },
  {
   "cell_type": "code",
   "execution_count": 5,
   "id": "44a32e78-8160-4512-b4ca-fa00d7c65d6d",
   "metadata": {},
   "outputs": [
    {
     "name": "stdout",
     "output_type": "stream",
     "text": [
      "['you', 'loud', 'enough', 'you', 'sound', 'precocious']\n"
     ]
    }
   ],
   "source": [
    "# make a new list that contains all the words from the old list that have an \"o\" in them\n",
    "words = [ 'If', 'you', 'say', 'it', 'loud', 'enough', 'you', 'will', 'always', 'sound', 'precocious']\n",
    "new_words = [x for x in words if 'o' in x]\n",
    "print(new_words)"
   ]
  },
  {
   "cell_type": "code",
   "execution_count": 6,
   "id": "c5000b59-4156-4ab9-8742-394c0910915b",
   "metadata": {},
   "outputs": [
    {
     "name": "stdout",
     "output_type": "stream",
     "text": [
      "['loud', 'enough', 'will', 'always', 'sound', 'precocious']\n"
     ]
    }
   ],
   "source": [
    "# make a new list with only the words from the old list that are longer than 3 characters\n",
    "words = [ 'If', 'you', 'say', 'it', 'loud', 'enough', 'you', 'will', 'always', 'sound', 'precocious']\n",
    "new_words = [x for x in words if len(x)>3]\n",
    "print(new_words)"
   ]
  },
  {
   "cell_type": "code",
   "execution_count": 7,
   "id": "adfc29c3-5878-42c4-a65f-7be92cf14b1e",
   "metadata": {},
   "outputs": [
    {
     "name": "stdout",
     "output_type": "stream",
     "text": [
      "['_If_', '_you_', '_say_', '_it_', '_loud_', '_enough_', '_you_', '_will_', '_always_', '_sound_', '_precocious_']\n"
     ]
    }
   ],
   "source": [
    "# make a new list with underscores before and after each word in the old list\n",
    "words = [ 'If', 'you', 'say', 'it', 'loud', 'enough', 'you', 'will', 'always', 'sound', 'precocious']\n",
    "new_words = ['_' + x + '_' for x in words]\n",
    "print(new_words)"
   ]
  },
  {
   "cell_type": "code",
   "execution_count": 8,
   "id": "1da86a31-b04f-4c87-b32b-0df852317d8e",
   "metadata": {},
   "outputs": [
    {
     "name": "stdout",
     "output_type": "stream",
     "text": [
      "['you', 'enough', 'you', 'sound']\n"
     ]
    }
   ],
   "source": [
    "# compare two lists and make a new list that only has words that are in both lists\n",
    "words = [ 'If', 'you', 'say', 'it', 'loud', 'enough', 'you', 'will', 'always', 'sound', 'precocious']\n",
    "keywords = ['you', 'enough', 'sound', 'dog', 'bunny', 'nihilist']\n",
    "new_words = [x for x in words if x in keywords]\n",
    "print(new_words)"
   ]
  },
  {
   "cell_type": "code",
   "execution_count": 9,
   "id": "28dfd234-08a1-489f-9dd2-1f956222a78b",
   "metadata": {},
   "outputs": [
    {
     "name": "stdout",
     "output_type": "stream",
     "text": [
      "['If', 'say', 'it', 'loud', 'will', 'always', 'precocious']\n"
     ]
    }
   ],
   "source": [
    "# compare two lists and make a new list with only words from the old list that are NOT in both lists\n",
    "words = [ 'If', 'you', 'say', 'it', 'loud', 'enough', 'you', 'will', 'always', 'sound', 'precocious']\n",
    "keywords = ['you', 'enough', 'sound', 'dog', 'bunny', 'nihilist']\n",
    "new_words = [x for x in words if x not in keywords]\n",
    "print(new_words)"
   ]
  },
  {
   "cell_type": "code",
   "execution_count": 10,
   "id": "440cfe10-94dc-4755-af0d-f13772ee75fb",
   "metadata": {},
   "outputs": [
    {
     "name": "stdout",
     "output_type": "stream",
     "text": [
      "['101', '102', '103', '104', '105']\n"
     ]
    }
   ],
   "source": [
    "# add 100 to each number in the old list and convert the sum to a string in the new list\n",
    "numbers = [1, 2, 3, 4, 5]\n",
    "new_numbers = [str(x + 100) for x in numbers]\n",
    "print(new_numbers)"
   ]
  },
  {
   "cell_type": "code",
   "execution_count": 11,
   "id": "7fdd19d3-b916-4385-b625-7966085e4425",
   "metadata": {},
   "outputs": [
    {
     "name": "stdout",
     "output_type": "stream",
     "text": [
      "[['1', '2', '3', '4'], ['5', '6', '7', '8']]\n"
     ]
    }
   ],
   "source": [
    "# convert integers to strings within a list of lists while still maintaining the list of list structure\n",
    "list_of_lists = [[1,2,3,4], [5,6,7,8]]\n",
    "list_of_string_lists = [[str(y) for y in x] for x in list_of_lists]\n",
    "print(list_of_string_lists)"
   ]
  },
  {
   "cell_type": "code",
   "execution_count": 12,
   "id": "710d3f5e-dcfa-4d89-9a11-0e8aeef5694d",
   "metadata": {},
   "outputs": [
    {
     "name": "stdout",
     "output_type": "stream",
     "text": [
      "[[1, 2, 3, 4, 5, 6, 7, 8]]\n"
     ]
    }
   ],
   "source": [
    "# \"flatten\" a list of lists into a single list\n",
    "list_of_lists = [[1,2,3,4], [5,6,7,8]]\n",
    "flattened_lists = [[y for x in list_of_lists for y in x]]\n",
    "print(flattened_lists)"
   ]
  },
  {
   "cell_type": "code",
   "execution_count": null,
   "id": "c07cf2dd-f136-4775-ac58-fe03012f5f44",
   "metadata": {},
   "outputs": [],
   "source": [
    "# you can also use list comprehensions to overwrite a list\n",
    "numbers = [1, 2, 3, 4]\n",
    "numbers = [x*100 for x in numbers]\n",
    "print(numbers)"
   ]
  },
  {
   "cell_type": "markdown",
   "id": "968dbb4c-f235-49d3-be4e-83c6e9536eef",
   "metadata": {},
   "source": [
    "## Nesting\n",
    "\n",
    "### Mixing conditions, loops etc. together :P\n"
   ]
  },
  {
   "cell_type": "code",
   "execution_count": 14,
   "id": "d0d48911-4812-49f1-b2a2-2275c440dba6",
   "metadata": {},
   "outputs": [
    {
     "name": "stdout",
     "output_type": "stream",
     "text": [
      "54\n",
      "324\n",
      "9070878072634\n"
     ]
    }
   ],
   "source": [
    "# nested conditionals\n",
    "\n",
    "numbers = [4, 2, 54, 823452, 324, 2, 4435, 4, 9070878072634, 3421, 4345]\n",
    "\n",
    "# nest conditionals within each other\n",
    "for num in numbers:\n",
    "    if len(str(num)) > 1:\n",
    "        if num % 2 == 0: # % is a module operator, which works like division but it gives you the remainder of the answer\n",
    "            if int(str(num)[-1]) == 4:\n",
    "                print(num)"
   ]
  },
  {
   "cell_type": "code",
   "execution_count": 15,
   "id": "10c1633b-b06f-4cdd-8200-b452e2c16025",
   "metadata": {},
   "outputs": [
    {
     "name": "stdout",
     "output_type": "stream",
     "text": [
      "11\n",
      "12\n",
      "13\n",
      "14\n",
      "15\n",
      "16\n",
      "17\n",
      "18\n",
      "19\n"
     ]
    }
   ],
   "source": [
    "# nested loops\n",
    "\n",
    "list_of_lists = [[1,2,3], [4,5,6], [7,8,9]]\n",
    "\n",
    "# nest a loop within a loop\n",
    "for i in list_of_lists:\n",
    "    for j in i:\n",
    "        print(j+10)"
   ]
  },
  {
   "cell_type": "code",
   "execution_count": 16,
   "id": "2c415217-ab48-49ec-9927-54949045af72",
   "metadata": {},
   "outputs": [
    {
     "name": "stdout",
     "output_type": "stream",
     "text": [
      "11\n",
      "2\n",
      "13\n",
      "4\n",
      "15\n",
      "6\n",
      "17\n",
      "8\n",
      "19\n"
     ]
    }
   ],
   "source": [
    "# combine nested loops with conditionals - here is an example of a nested loop with a conditional that goes through all the numbers in each of the sublists and adds 10 to the odd ones, but leaves the even ones untouched:\n",
    "for i in list_of_lists:\n",
    "    for j in i:\n",
    "        if j % 2 != 0:\n",
    "            print(j+10)\n",
    "        else:\n",
    "            print(j)"
   ]
  },
  {
   "cell_type": "markdown",
   "id": "f6028708-e513-4c1d-8536-d26ad938b838",
   "metadata": {},
   "source": [
    "## Abstraction, generalisation, and patterns\n",
    "\n",
    "### We often make functions to solve specific issues, but it might be nice to have a substainable version that can more easily be reused in other situations"
   ]
  },
  {
   "cell_type": "code",
   "execution_count": 18,
   "id": "943f3684-fc15-45ff-98c8-ac3b9042754d",
   "metadata": {},
   "outputs": [
    {
     "name": "stdout",
     "output_type": "stream",
     "text": [
      "['Begonias', 'Buttercups']\n"
     ]
    }
   ],
   "source": [
    "# here is some specific code to make a list with only the flowers that start with the letter “B”.\n",
    "all_flowers = ['Begonias', 'Lilacs', 'Roses', 'Pansies', 'Foxgloves', 'Buttercups', 'Sunflowers']\n",
    "\n",
    "b_flowers = []\n",
    "\n",
    "for flower in all_flowers:\n",
    "    if flower.startswith('B'):\n",
    "        b_flowers.append(flower)\n",
    "\n",
    "print(b_flowers)"
   ]
  },
  {
   "cell_type": "code",
   "execution_count": 19,
   "id": "204210fd-41b2-4818-b0ee-846953e16352",
   "metadata": {},
   "outputs": [
    {
     "name": "stdout",
     "output_type": "stream",
     "text": [
      "['Begonias', 'Buttercups']\n"
     ]
    }
   ],
   "source": [
    "# make the code from before into a generic function\n",
    "def check_first_letter(input_list, target_letter):\n",
    "    output_list = []\n",
    "    for item in input_list:\n",
    "        if item.lower().startswith(target_letter.lower()):\n",
    "            output_list.append(item)\n",
    "    print(output_list)\n",
    "\n",
    "# use on all_flowers\n",
    "check_first_letter(all_flowers, 'b')"
   ]
  },
  {
   "cell_type": "code",
   "execution_count": 20,
   "id": "d18f2c1e-0c1f-4d0f-85d1-b7c17354acb6",
   "metadata": {},
   "outputs": [
    {
     "name": "stdout",
     "output_type": "stream",
     "text": [
      "['Pears', 'pickles', 'peppers', 'Pizza']\n"
     ]
    }
   ],
   "source": [
    "# YAY - works just as well but can also be applied to other data\n",
    "foods = ['Pears', 'pickles', 'Beets', 'burgers', 'cheese', 'peppers', 'Pizza', 'bananas', 'cardamom', 'Cabbage']\n",
    "\n",
    "check_first_letter(foods, 'P')"
   ]
  }
 ],
 "metadata": {
  "kernelspec": {
   "display_name": "Python 3 ",
   "language": "python",
   "name": "python3"
  },
  "language_info": {
   "codemirror_mode": {
    "name": "ipython",
    "version": 3
   },
   "file_extension": ".py",
   "mimetype": "text/x-python",
   "name": "python",
   "nbconvert_exporter": "python",
   "pygments_lexer": "ipython3",
   "version": "3.10.14"
  }
 },
 "nbformat": 4,
 "nbformat_minor": 5
}
