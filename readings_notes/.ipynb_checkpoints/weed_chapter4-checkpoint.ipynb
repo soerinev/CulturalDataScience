{
 "cells": [
  {
   "cell_type": "code",
   "execution_count": null,
   "metadata": {},
   "outputs": [],
   "source": [
    "# IN THIS CHAPTER\n",
    "## Installing and importing libraries\n",
    "## Loading and saving data\n",
    "## Filesystem paths\n",
    "## Useful things to know about variables"
   ]
  },
  {
   "cell_type": "code",
   "execution_count": 19,
   "metadata": {},
   "outputs": [
    {
     "name": "stdout",
     "output_type": "stream",
     "text": [
      "8.539539450000001\n"
     ]
    }
   ],
   "source": [
    "# we LOVE comments\n",
    "\n",
    "seeker = 3.1415           # create the first variable\n",
    "lover = 2.7183            # create the second variable\n",
    "keeper = seeker * lover   # now multiply them to create a third one\n",
    "print(keeper)            # print out the value of 'keeper'"
   ]
  },
  {
   "cell_type": "code",
   "execution_count": 16,
   "metadata": {},
   "outputs": [],
   "source": [
    "# \"library\" and \"package\" is the same thing\n",
    "# libraries need to be 1) installed, then 2) imported into python\n",
    "# useful packages in python: numpy, pandas, matplotlib, seaborn, statistics, math, and pingouin, scipy, statmodels, and scikit-learn.\n",
    "# \"Once you import a library into Python’s active memory, you don’t need to do it again\" --> Q: not even if you close down python??"
   ]
  },
  {
   "cell_type": "code",
   "execution_count": 17,
   "metadata": {},
   "outputs": [
    {
     "ename": "ModuleNotFoundError",
     "evalue": "No module named 'numpy'",
     "output_type": "error",
     "traceback": [
      "\u001b[0;31m---------------------------------------------------------------------------\u001b[0m",
      "\u001b[0;31mModuleNotFoundError\u001b[0m                       Traceback (most recent call last)",
      "Cell \u001b[0;32mIn[17], line 18\u001b[0m\n\u001b[1;32m     15\u001b[0m mean(numbers) \u001b[38;5;66;03m# THEN we can just type mean() eeeyyy\u001b[39;00m\n\u001b[1;32m     17\u001b[0m \u001b[38;5;66;03m# renaming libraries cuz it's nice sometimes\u001b[39;00m\n\u001b[0;32m---> 18\u001b[0m \u001b[38;5;28;01mimport\u001b[39;00m \u001b[38;5;21;01mnumpy\u001b[39;00m \u001b[38;5;28;01mas\u001b[39;00m \u001b[38;5;21;01mnp\u001b[39;00m\n\u001b[1;32m     19\u001b[0m \u001b[38;5;28;01mimport\u001b[39;00m \u001b[38;5;21;01mseaborn\u001b[39;00m \u001b[38;5;28;01mas\u001b[39;00m \u001b[38;5;21;01msns\u001b[39;00m\n",
      "\u001b[0;31mModuleNotFoundError\u001b[0m: No module named 'numpy'"
     ]
    }
   ],
   "source": [
    "# example of why packages are smart\n",
    "\n",
    "# calculating\n",
    "numbers = [4, 5, 1, 2, 6]\n",
    "sum(numbers)\n",
    "\n",
    "#mean(numbers) # errr error cause you need a package to say mean()\n",
    "\n",
    "# import \"statistics\" package\n",
    "import statistics\n",
    "statistics.mean(numbers) # write statistics first so python knows which package the mean() command is from\n",
    "\n",
    "# if I only wanted to import mean(), not the entire statistics package\n",
    "from statistics import mean\n",
    "mean(numbers) # THEN we can just type mean() eeeyyy\n",
    "\n",
    "# renaming libraries cuz it's nice sometimes\n",
    "import numpy as np\n",
    "import seaborn as sns"
   ]
  },
  {
   "cell_type": "code",
   "execution_count": 20,
   "metadata": {},
   "outputs": [
    {
     "name": "stdout",
     "output_type": "stream",
     "text": [
      "No variables match your requested type.\n",
      "No variables match your requested type.\n",
      "Nothing done.\n"
     ]
    }
   ],
   "source": [
    "# check which variables python is aware of\n",
    "%who #list\n",
    "%whos #more detailed OBS doesn't do that??\n",
    "\n",
    "# delete a variable\n",
    "del(keeper, lover)\n",
    "\n",
    "# delete all variables from working memory\n",
    "%reset\n"
   ]
  },
  {
   "cell_type": "code",
   "execution_count": 21,
   "metadata": {},
   "outputs": [
    {
     "name": "stdout",
     "output_type": "stream",
     "text": [
      "/Users/LauraSoerineVoldgaard/Library/Mobile Documents/com~apple~CloudDocs/CogSci/5. semester/Cultural Data Science/1. Python\n"
     ]
    }
   ],
   "source": [
    "from pathlib import Path\n",
    "print(Path.cwd())\n"
   ]
  },
  {
   "cell_type": "code",
   "execution_count": null,
   "metadata": {},
   "outputs": [],
   "source": [
    "# LOADING DATA👹\n",
    "\n",
    "## info\n",
    "# when loading data, we often use either CSV files (comma separated value, ends with .csv) or script files (ends with .py or .ipynb)\n",
    "# path: 1) root location --> 2) folders/directories --> 3) file\n",
    "# on Mac, we use forward slash / not backwards slash \\ to indicate paths. So my path fx is (I think...): \"# import pandas, and call it \"pd\" for short/Users/LauraSoerineVoldgaard/Library/Mobile Documents/com~apple~CloudDocs/CogSci/5. semester/Cultural Data Science/1. Python\"\n",
    "\n",
    "\n",
    "## load data fr\n",
    "import pandas as pd #OBS this doesn't work\n",
    "\n",
    "# make a new dataframe variable, and use the \"read_csv\" command from the pandas library to put the contents\n",
    "# of the file located at \"/Users/LauraSoerineVoldgaard/Library/Mobile Documents/com~apple~CloudDocs/CogSci/5. semester/Cultural Data Science/1. Python/Data\" in the dataframe df\n",
    "df = pd.read_csv(\"/Users/LauraSoerineVoldgaard/Library/Mobile Documents/com~apple~CloudDocs/CogSci/5. semester/Cultural Data Science/1. Python/Data/test_data.csv\")\n",
    "\n",
    "# OR save the path as a variable\n",
    "file = \"/Users/LauraSoerineVoldgaard/Library/Mobile Documents/com~apple~CloudDocs/CogSci/5. semester/Cultural Data Science/1. Python\"\n",
    "df = pd.read_csv(file)\n",
    "\n",
    "##how to save a dataframe as a csv file\n",
    "df.to_csv('/Users/ethan/Desktop/my_file.csv')\n"
   ]
  },
  {
   "cell_type": "code",
   "execution_count": 34,
   "metadata": {},
   "outputs": [
    {
     "data": {
      "text/plain": [
       "float"
      ]
     },
     "execution_count": 34,
     "metadata": {},
     "output_type": "execute_result"
    }
   ],
   "source": [
    "# VARIABLE TYPES\n",
    "\n",
    "# regular variables\n",
    "    # strings (text) # adding quotation marks around something makes it into a string\n",
    "    # intergers (whole numbers)\n",
    "    # floats (decimal numbers)\n",
    "# collection variables\n",
    "    # whole datasets (dataframes)\n",
    "    # dictionaries\n",
    "    # lists\n",
    "    # tuples\n",
    "    # sets\n",
    "\n",
    "# checking variable types\n",
    "x = \"Hello World\" #text (string)\n",
    "type(x)\n",
    "\n",
    "y = 100 #number (integer)\n",
    "type(y)\n",
    "\n",
    "z = 3.14 # x is a floating-point decimal\n",
    "type(z)\n"
   ]
  },
  {
   "cell_type": "code",
   "execution_count": 37,
   "metadata": {},
   "outputs": [
    {
     "name": "stdout",
     "output_type": "stream",
     "text": [
      "Total number of animals: 103\n",
      "0.1\n",
      "I am a string\n",
      "I am a string\n",
      "3\n",
      "12\n",
      "catcatcatcatcat\n"
     ]
    },
    {
     "data": {
      "text/plain": [
       "'a_long_time_ago_in_a_galaxy_far_far_away'"
      ]
     },
     "execution_count": 37,
     "metadata": {},
     "output_type": "execute_result"
    }
   ],
   "source": [
    "# REGULAR VARIABLES\n",
    "\n",
    "# 🌻integers - example of how to work with\n",
    "cows = 75\n",
    "pigs = 21\n",
    "hens = 7\n",
    "\n",
    "animals_total = cows + pigs + hens\n",
    "\n",
    "print(\"Total number of animals:\", animals_total)\n",
    "\n",
    "\n",
    "# 🌻floats - example of how to work with\n",
    "a = 1/10\n",
    "print(a)\n",
    "# check out chapter for all the oddities of floats :P\n",
    "\n",
    "\n",
    "# 🌻strings - example of how to work with\n",
    "a = \"I am a string\"\n",
    "print(a)\n",
    "\n",
    "a = \"I am a \"\n",
    "b = \"string\"\n",
    "c = a + b\n",
    "print(c)\n",
    "\n",
    "# These numbers are integers\n",
    "a = 1\n",
    "b = 2\n",
    "print(a + b)\n",
    "\n",
    "# These numbers are stringss\n",
    "a = '1'\n",
    "b = '2'\n",
    "print(a + b)\n",
    "\n",
    "# while we can add two strings together, we can’t multiply two strings by each other, or subtract, or divide. What would that even mean. We can multiply strings by an interger, though:\n",
    "a = 'cat'\n",
    "print(a*5)\n",
    "\n",
    "# smart commands when working with strings\n",
    "a = 'a long time ago in a galaxy far far away'\n",
    "a.title()\n",
    "\n",
    "a.upper() #make upper case\n",
    "a.split() #split content in string into many different strings\n",
    "a.split('a') #split string + remove a\n",
    "'X'.join(a) #??\n",
    "a.replace('galaxy', 'suburb') #replace galaxy with suburb\n",
    "a.replace('a', 'A') #replace a with A\n",
    "a.replace(' ', '_') #replace space with underscore"
   ]
  },
  {
   "cell_type": "code",
   "execution_count": null,
   "metadata": {},
   "outputs": [],
   "source": [
    "# ARGUMENTS - what your commands need e.g. a.replace('a', '@') needs these two places filled out, you can't just say a.replace()\n",
    "# you can't know which commands have which arguments, so look it up"
   ]
  },
  {
   "cell_type": "code",
   "execution_count": 43,
   "metadata": {},
   "outputs": [
    {
     "name": "stdout",
     "output_type": "stream",
     "text": [
      "[['apples', 'pears', 'bananas'], [90, 65, 100, 82], ['cats', 7, 309.42]]\n"
     ]
    },
    {
     "data": {
      "text/plain": [
       "3"
      ]
     },
     "execution_count": 43,
     "metadata": {},
     "output_type": "execute_result"
    }
   ],
   "source": [
    "# COLLECTION VARIABLES - can combine the regular variables\n",
    "\n",
    "# 🌻lists\n",
    "shopping = [\"apples\", \"pears\", \"bananas\"] # a list strings\n",
    "scores = [90, 65, 100, 82]                # a list of integers\n",
    "mixed = [\"cats\", 7, 309.42]               # a list of mixed strings, integers, and floats\n",
    "combined = [shopping, scores, mixed]      # a list of lists!\n",
    "\n",
    "print(combined)\n",
    "\n",
    "shopping = [\"apples\", \"pears\", \"bananas\"]\n",
    "shopping[2] # python zero-indexes, which means apples is 0, pears is 1, and bananas is 2. I don't think R does this\n",
    "shopping[-2] # when you use negative indices tho, is does not zero-index, so -2 is pears, not apples\n",
    "\n",
    "# a good visualization to remember how indexing in python works:)\n",
    "#  +---+---+---+---+---+---+\n",
    "# | P | y | t | h | o | n |\n",
    "#  +---+---+---+---+---+---+\n",
    "#  0   1   2   3   4   5   6\n",
    "# -6  -5  -4  -3  -2  -1\n",
    "\n",
    "len(shopping)\n"
   ]
  },
  {
   "cell_type": "code",
   "execution_count": 46,
   "metadata": {},
   "outputs": [
    {
     "name": "stdout",
     "output_type": "stream",
     "text": [
      "['grapes', 'pears', 'bananas']\n",
      "pears\n"
     ]
    }
   ],
   "source": [
    "# 🌻TUPLES - you can't change a tuple, you gotta make a new one\n",
    "\n",
    "shopping_list = [\"apples\", \"pears\", \"bananas\"]\n",
    "shopping_tuple = (\"apples\", \"pears\", \"bananas\")\n",
    "\n",
    "# see that you can change stuff in lists but not tubles\n",
    "shopping_list[0] = 'grapes' #replaces apples with grapes\n",
    "print(shopping_list)\n",
    "\n",
    "#shopping_tuple[0] = 'grapes' #same, but will give error\n",
    "#print(shopping_tuple)\n",
    "\n",
    "# in tuples, we NEED a comma, otherwise python's gonna think it's a string\n",
    "a = ('pears') #thinks it's a string\n",
    "type(a)\n",
    "\n",
    "a = ('pears',) #thinks it's a tuple\n",
    "type(a)\n",
    "\n",
    "print(a[0])\n"
   ]
  },
  {
   "cell_type": "code",
   "execution_count": 50,
   "metadata": {},
   "outputs": [
    {
     "name": "stdout",
     "output_type": "stream",
     "text": [
      "Laura\n",
      "['apples', 'pears', 'bananas']\n",
      "('sleep', 'teach', 'feed the cat')\n"
     ]
    }
   ],
   "source": [
    "# 🌻DICTIONARIES - consists of two parts: keys and values (key is the word you look up in the dictionary, and the value is the definition)\n",
    "\n",
    "me = {'name': 'Laura'}\n",
    "print(me['name'])\n",
    "\n",
    "# more info\n",
    "my_pet = {'name': 'D2',\n",
    "         'species': 'cat',\n",
    "         'likes': 'sleeping',\n",
    "         'dislikes': 'loud noises'}\n",
    "my_pet['species']\n",
    "\n",
    "# you can use lists and tuples in dictionary variables\n",
    "my_week = {'shopping': ['apples', 'pears', 'bananas'],\n",
    "          'todo': ('sleep', 'teach', 'feed the cat')}\n",
    "print(my_week['shopping'])\n",
    "print(my_week['todo'])\n"
   ]
  },
  {
   "cell_type": "code",
   "execution_count": null,
   "metadata": {},
   "outputs": [],
   "source": [
    "# combining variable types\n",
    "\n",
    "## lists of lists\n",
    "owls = ['Barred Owl', 'Burrowing Owl', 'Barn Owl', 'Screech Owl', 'Spotted Owl']\n",
    "finches = ['Goldfinch', 'Crossbill', 'Redpoll', 'Grosbeak']\n",
    "sparrows = ['House Sparrow', 'Song Sparrow', 'White-Throated Sparrow', 'Captain Jack Sparrow']\n",
    "\n",
    "birds = [owls, finches, sparrows]\n",
    "print(birds)\n"
   ]
  },
  {
   "cell_type": "code",
   "execution_count": 56,
   "metadata": {},
   "outputs": [
    {
     "name": "stdout",
     "output_type": "stream",
     "text": [
      "{'p', 'd', 'y', 'e', 'n', ' ', 'g', 'o', 't', 'u', 'i', 'f', 'I', 'm', 'h', 'a', 'c', 's', 'P', 'w', 'r', '!', 'l', 'v'}\n"
     ]
    }
   ],
   "source": [
    "# 🌻SETS - the collection of unique items in a collection of items\n",
    "\n",
    "# example - every student in a class wrote down their favorite color, and we put them all into a list\n",
    "our_colors = ['green', 'blue', 'red', 'blue', 'orange', 'yellow', 'green', 'blue', 'green', 'blue']\n",
    "\n",
    "len(our_colors) # run and see that there are 10 students\n",
    "set(our_colors) # run and see the unique colors chosen\n",
    "len(set(our_colors)) # run and see how many unique colors were chosen\n",
    "\n",
    "# another example - see how many unique characters make up a sentence\n",
    "len(set('Python is the most wonderful programming language in the world and I love it so much!'))\n",
    "print(set('Python is the most wonderful programming language in the world and I love it so much!')) #see the unique characters\n",
    "\n"
   ]
  },
  {
   "cell_type": "code",
   "execution_count": 68,
   "metadata": {},
   "outputs": [
    {
     "name": "stdout",
     "output_type": "stream",
     "text": [
      "A LONG TIME AGO IN A GALAXY FAR FAR AWAY\n",
      "('hrello',)\n"
     ]
    },
    {
     "data": {
      "text/plain": [
       "3"
      ]
     },
     "execution_count": 68,
     "metadata": {},
     "output_type": "execute_result"
    }
   ],
   "source": [
    "# OBJECT METHODS\n",
    "\n",
    "# different types of variables/objects in python have different 'methods' i.e. properties that you can play with\n",
    "\n",
    "# example: a string\n",
    "a = 'a long time ago in a galaxy far far away'\n",
    "a = a.title() # a method of making the first letters in a word upper case\n",
    "a = a.upper() # a method of making all letters upper case\n",
    "print(a)\n",
    "\n",
    "# COOL: to see the full list of methods for a variable, write dir(a) i.e. a variable that you is of a certain kind (here we know a is a string)\n",
    "dir(a)\n",
    "\n",
    "# try it for tuples\n",
    "maybe_tuple = (\"hrello\",) # make tuple\n",
    "print(maybe_tuple)\n",
    "type(maybe_tuple) # if in doubt, check which type of variable it is\n",
    "dir(maybe_tuple)\n",
    "\n",
    "# try it for lists\n",
    "b = [3, 6, 1231]\n",
    "dir(b)\n",
    "\n",
    "\n",
    "\n",
    "# so we can access these special methods by writing the name of the variable, and then a . and then the name of the method. But we can only use the methods that are available for the type of variable we are working with\n",
    "# TIP: do this, because then it will automatically insert the underscores, and they're weird to keep track off yourself\n",
    "b.__len__() # example\n",
    "\n"
   ]
  },
  {
   "cell_type": "code",
   "execution_count": 80,
   "metadata": {},
   "outputs": [
    {
     "data": {
      "text/plain": [
       "[2, 6, 575, 234, 565, 12, 332, 234]"
      ]
     },
     "execution_count": 80,
     "metadata": {},
     "output_type": "execute_result"
    }
   ],
   "source": [
    "# INDEXING AND SLICING (remember zero-indexing here)\n",
    "owls = ['Barred Owl', 'Burrowing Owl', 'Barn Owl', 'Screech Owl', 'Spotted Owl']\n",
    "finches = ['Goldfinch', 'Crossbill', 'Redpoll', 'Grosbeak']\n",
    "sparrows = ['House Sparrow', 'Song Sparrow', 'White-Throated Sparrow', 'Captain Jack Sparrow']\n",
    "\n",
    "birds = [owls, finches, sparrows]\n",
    "\n",
    "# easy to index and slice from a single list to obtain 'Barn owl'\n",
    "owls[2]\n",
    "\n",
    "birds\n",
    "\n",
    "# double index and slice from 'birds' (which is a list of lists) to obtain 'Barn owl'\n",
    "birds[0][2]\n",
    "\n",
    "# slice parts of a list\n",
    "spent = [2,5,345,4,6,12,432,6,575,43,64,32,234,23,6,3,565,345,43,233,12,865,45645,45,332,453,346,23,234,3,324,1]\n",
    "\n",
    "# The general form for slices is [start:end:step], where step indicates how many positions to jump each time. If you don’t indicate any value for step, Python assumes it is one.\n",
    "spent[4] # a single value\n",
    "spent[4:10] # a range of values between start and end (here from the fifth to and with the 11th value)\n",
    "spent[15:] # values from the nth position to the end (here from the 16th value)\n",
    "spent[-5:] # also values from the nth position to the end, just written in reverse (here from 5th last value)\n",
    "spent[0:17:7] # every nth item within a range (here every seventh value between value 0 and 17)\n",
    "spent[::4] # every fourth value in the entire list\n",
    "\n",
    "\n",
    "\n"
   ]
  },
  {
   "cell_type": "code",
   "execution_count": 84,
   "metadata": {},
   "outputs": [
    {
     "ename": "IndentationError",
     "evalue": "unexpected indent (3087722772.py, line 4)",
     "output_type": "error",
     "traceback": [
      "\u001b[0;36m  Cell \u001b[0;32mIn[84], line 4\u001b[0;36m\u001b[0m\n\u001b[0;31m    string = \"hej\" # string (text)\u001b[0m\n\u001b[0m    ^\u001b[0m\n\u001b[0;31mIndentationError\u001b[0m\u001b[0;31m:\u001b[0m unexpected indent\n"
     ]
    }
   ],
   "source": [
    "# OVERVIEW - DIFFERENT VARIABLE TYPES AND HOW TO CREATE THEM\n",
    "\n",
    "# regular variables\n",
    "string = \"hej\" # string (text)\n",
    "integer = 23 # integer (whole numbers)\n",
    "float = 23.5 # float (decimal numbers)\n",
    "\n",
    "# collection variables\n",
    "list = [1, 3, 'hej'] # list with integers and a string\n",
    "tuple = (1, 3, 'hej') # tuple with integers and a string\n",
    "set = ['green', 'blue'] # set which is basically just a list?? I guess it can also be a tuple?\n",
    "dictionary = {'hvad elsker vi?': 'demos'} # dictionary with a key and a value\n",
    "#whole_dataset = ??\n"
   ]
  }
 ],
 "metadata": {
  "kernelspec": {
   "display_name": "Python 3",
   "language": "python",
   "name": "python3"
  },
  "language_info": {
   "codemirror_mode": {
    "name": "ipython",
    "version": 3
   },
   "file_extension": ".py",
   "mimetype": "text/x-python",
   "name": "python",
   "nbconvert_exporter": "python",
   "pygments_lexer": "ipython3",
   "version": "3.9.6"
  }
 },
 "nbformat": 4,
 "nbformat_minor": 2
}
