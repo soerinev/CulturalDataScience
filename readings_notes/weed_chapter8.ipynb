{
 "cells": [
  {
   "cell_type": "markdown",
   "id": "1849d7c3-72a4-41a3-bd64-f996279faf56",
   "metadata": {},
   "source": [
    "# Chapter 8: Basic programming"
   ]
  },
  {
   "cell_type": "markdown",
   "id": "a42121ac-1a4e-472f-922a-0253722802a1",
   "metadata": {},
   "source": [
    "Some programs, like Visual Studio Code, allow you to run Jupyter Notebooks inside an IDE."
   ]
  },
  {
   "cell_type": "markdown",
   "id": "212f2967-fc4b-44dd-a1d0-4a6d7b29a10d",
   "metadata": {},
   "source": [
    "## Loops\n",
    "\n",
    "### While loop = loops until a condition has been met (i.e. conditional)\n",
    "\n",
    "### For loop = loop until you're through the finite number of items e.g. four times (i.e. not conditional)\n"
   ]
  },
  {
   "cell_type": "code",
   "execution_count": 1,
   "id": "fd235977-dfb0-4814-8106-c7a5bfda01c3",
   "metadata": {},
   "outputs": [
    {
     "name": "stdout",
     "output_type": "stream",
     "text": [
      "I have added 1 spoons of sugar\n",
      "I have added 2 spoons of sugar\n",
      "I have added 3 spoons of sugar\n"
     ]
    }
   ],
   "source": [
    "# while loop\n",
    "sweet_enough = 3\n",
    "num_sugar_spoons = 0\n",
    "\n",
    "while num_sugar_spoons < sweet_enough:\n",
    "    num_sugar_spoons = num_sugar_spoons + 1\n",
    "    print('I have added', num_sugar_spoons, 'spoons of sugar')"
   ]
  },
  {
   "cell_type": "code",
   "execution_count": 4,
   "id": "cd5d2556-5d0e-44cd-8a3c-4216040955ac",
   "metadata": {},
   "outputs": [
    {
     "name": "stdout",
     "output_type": "stream",
     "text": [
      "I cracked an egg\n",
      "I cracked an egg\n",
      "I cracked an egg\n"
     ]
    }
   ],
   "source": [
    "# for loop\n",
    "eggs = ['egg', 'egg', 'egg']\n",
    "\n",
    "for egg in eggs:\n",
    "    print('I cracked an ' + egg)"
   ]
  },
  {
   "cell_type": "code",
   "execution_count": 5,
   "id": "dd9955ef-5130-423e-bf7a-49cf2cb13d36",
   "metadata": {},
   "outputs": [
    {
     "name": "stdout",
     "output_type": "stream",
     "text": [
      "I cracked an egg!\n",
      "I cracked an egg!\n",
      "I cracked an egg!\n"
     ]
    }
   ],
   "source": [
    "# for loop\n",
    "eggs = ['egg', 'egg', 'egg']\n",
    "\n",
    "for egg in eggs:\n",
    "    print('I cracked an egg!')\n"
   ]
  },
  {
   "cell_type": "code",
   "execution_count": 6,
   "id": "50e0e284-6ca6-41b8-a519-8674be04ef57",
   "metadata": {},
   "outputs": [
    {
     "name": "stdout",
     "output_type": "stream",
     "text": [
      "I added eggs\n",
      "I added flour\n",
      "I added sugar\n",
      "I added cinnamon\n",
      "I added salt\n"
     ]
    }
   ],
   "source": [
    "# for loop\n",
    "ingredients = ['eggs', 'flour', 'sugar', 'cinnamon', 'salt']\n",
    "\n",
    "for item in ingredients:\n",
    "    print('I added', item)"
   ]
  },
  {
   "cell_type": "code",
   "execution_count": 7,
   "id": "b6ca1767-3e37-4245-938d-ceb424424ab7",
   "metadata": {},
   "outputs": [
    {
     "name": "stdout",
     "output_type": "stream",
     "text": [
      "There are 4 letters in EGGS\n",
      "There are 5 letters in FLOUR\n",
      "There are 5 letters in SUGAR\n",
      "There are 8 letters in CINNAMON\n",
      "There are 4 letters in SALT\n"
     ]
    }
   ],
   "source": [
    "# for loop\n",
    "words = ['eggs', 'flour', 'sugar', 'cinnamon', 'salt']\n",
    "\n",
    "for word in words:\n",
    "    print('There are', len(word), 'letters in', word.upper())"
   ]
  },
  {
   "cell_type": "markdown",
   "id": "85362e52-0144-4b77-9ef2-308dafa049a8",
   "metadata": {},
   "source": [
    "## Conditional statements\n"
   ]
  },
  {
   "cell_type": "code",
   "execution_count": 8,
   "id": "69081afb-3322-4b2e-b0f8-8647fd457fd1",
   "metadata": {},
   "outputs": [
    {
     "name": "stdout",
     "output_type": "stream",
     "text": [
      "Leave early!\n"
     ]
    }
   ],
   "source": [
    "# a conditional statement\n",
    "day = 'Wednesday'\n",
    "\n",
    "if day == 'Wednesday':\n",
    "    print('Leave early!')"
   ]
  },
  {
   "cell_type": "code",
   "execution_count": 9,
   "id": "42814f60-86aa-4367-ab84-327257e350b2",
   "metadata": {},
   "outputs": [
    {
     "name": "stdout",
     "output_type": "stream",
     "text": [
      "Today is Monday. You can leave at the normal time today.\n",
      "Today is Tuesday. You can leave at the normal time today.\n",
      "Today is Wednesday. You need to leave early!\n",
      "Today is Wednesday. You can leave at the normal time today.\n",
      "Today is Thursday. You can leave at the normal time today.\n",
      "Today is Friday. You can leave at the normal time today.\n",
      "Today is Saturday. You can sleep late!\n",
      "Today is Sunday. You can sleep late!\n"
     ]
    }
   ],
   "source": [
    "# more complex conditional statement\n",
    "week = ['Monday', 'Tuesday', 'Wednesday', 'Thursday', 'Friday', 'Saturday', 'Sunday']\n",
    "\n",
    "for day in week:\n",
    "    if day == 'Wednesday':\n",
    "        print('Today is', day + '.', 'You need to leave early!')\n",
    "    if day == 'Saturday' or day == 'Sunday':\n",
    "            print('Today is', day + '.', 'You can sleep late!')\n",
    "    else:\n",
    "        print('Today is', day + '.', 'You can leave at the normal time today.')"
   ]
  },
  {
   "cell_type": "markdown",
   "id": "10619ccb-6044-46e0-bf4e-4ee10e8409c9",
   "metadata": {},
   "source": [
    "## Functions\n"
   ]
  },
  {
   "cell_type": "code",
   "execution_count": 13,
   "id": "b2da457f-6c3a-49ae-b4ec-1be6f5267790",
   "metadata": {},
   "outputs": [
    {
     "name": "stdout",
     "output_type": "stream",
     "text": [
      "There are 3 letters in CAT\n"
     ]
    }
   ],
   "source": [
    "# making a function that can count letters in a word\n",
    "def measure_word(word):\n",
    "    letter_count = 0\n",
    "    for letter in word:\n",
    "        letter_count = letter_count + 1\n",
    "    print('There are', letter_count, 'letters in', word.upper())\n",
    "\n",
    "measure_word('cat') # remember quotation marks"
   ]
  },
  {
   "cell_type": "code",
   "execution_count": 19,
   "id": "e62df6e9-03bb-464a-a835-84702cff426f",
   "metadata": {},
   "outputs": [
    {
     "data": {
      "text/plain": [
       "tuple"
      ]
     },
     "execution_count": 19,
     "metadata": {},
     "output_type": "execute_result"
    }
   ],
   "source": [
    "# return a variable instead of just printing\n",
    "def measure_word(word):\n",
    "    letter_count = 0\n",
    "    for letter in word:\n",
    "        letter_count = letter_count + 1\n",
    "    return('There are', letter_count, 'letters in', word.upper())\n",
    "\n",
    "# use function on word\n",
    "output = measure_word('cat')\n",
    "\n",
    "# see which variable type the output is\n",
    "type(output)\n"
   ]
  },
  {
   "cell_type": "code",
   "execution_count": 18,
   "id": "d9bae724-c499-42a9-a4ca-788ccf65e354",
   "metadata": {},
   "outputs": [
    {
     "name": "stdout",
     "output_type": "stream",
     "text": [
      "('There are', 3, 'letters in', 'CAT')\n"
     ]
    }
   ],
   "source": [
    "# print output\n",
    "print(output)"
   ]
  },
  {
   "cell_type": "code",
   "execution_count": 20,
   "id": "c82ac397-6d0c-4448-9bcb-bacc647a731d",
   "metadata": {},
   "outputs": [
    {
     "data": {
      "text/plain": [
       "3"
      ]
     },
     "execution_count": 20,
     "metadata": {},
     "output_type": "execute_result"
    }
   ],
   "source": [
    "# just return the amount of letters\n",
    "measure_word('cat')[1]"
   ]
  },
  {
   "cell_type": "code",
   "execution_count": null,
   "id": "6c420a93-fc8e-4ea5-a6ad-4b750c0ae079",
   "metadata": {},
   "outputs": [],
   "source": []
  }
 ],
 "metadata": {
  "kernelspec": {
   "display_name": "Python 3 ",
   "language": "python",
   "name": "python3"
  },
  "language_info": {
   "codemirror_mode": {
    "name": "ipython",
    "version": 3
   },
   "file_extension": ".py",
   "mimetype": "text/x-python",
   "name": "python",
   "nbconvert_exporter": "python",
   "pygments_lexer": "ipython3",
   "version": "3.10.14"
  }
 },
 "nbformat": 4,
 "nbformat_minor": 5
}
