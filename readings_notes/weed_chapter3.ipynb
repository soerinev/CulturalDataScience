{
 "cells": [
  {
   "cell_type": "code",
   "execution_count": null,
   "metadata": {},
   "outputs": [],
   "source": [
    "# IN THIS CHAPTER\n",
    "## Basic operations :P"
   ]
  },
  {
   "cell_type": "code",
   "execution_count": 5,
   "metadata": {},
   "outputs": [
    {
     "data": {
      "text/plain": [
       "110"
      ]
     },
     "execution_count": 5,
     "metadata": {},
     "output_type": "execute_result"
    }
   ],
   "source": [
    "# simple calculation\n",
    "10+20+40+40"
   ]
  },
  {
   "cell_type": "code",
   "execution_count": 6,
   "metadata": {},
   "outputs": [
    {
     "data": {
      "text/plain": [
       "25"
      ]
     },
     "execution_count": 6,
     "metadata": {},
     "output_type": "execute_result"
    }
   ],
   "source": [
    "# more simple calculations\n",
    "10 + 2 #addition\n",
    "9-3 #subtraction\n",
    "5*5 #multiplication\n",
    "10/3 #division\n",
    "5**2 #power\n",
    "\n"
   ]
  },
  {
   "cell_type": "code",
   "execution_count": 9,
   "metadata": {},
   "outputs": [
    {
     "data": {
      "text/plain": [
       "6.0"
      ]
     },
     "execution_count": 9,
     "metadata": {},
     "output_type": "execute_result"
    }
   ],
   "source": [
    "# remember that order of opereations matter wiii\n",
    "1 + 2 * 4\n",
    "(1 + 2) * 4\n",
    "\n",
    "# if the operations are at the same level, python goes from left to right\n",
    "4 / 2 * 3\n",
    "\n",
    "\n"
   ]
  },
  {
   "cell_type": "code",
   "execution_count": 12,
   "metadata": {},
   "outputs": [
    {
     "data": {
      "text/plain": [
       "350"
      ]
     },
     "execution_count": 12,
     "metadata": {},
     "output_type": "execute_result"
    }
   ],
   "source": [
    "# storing a number as a variable\n",
    "sales = 350\n",
    "\n",
    "# check\n",
    "sales"
   ]
  },
  {
   "cell_type": "code",
   "execution_count": 21,
   "metadata": {},
   "outputs": [
    {
     "name": "stdout",
     "output_type": "stream",
     "text": [
      "2450\n",
      "3000\n"
     ]
    }
   ],
   "source": [
    "# do operations with variables\n",
    "\n",
    "# make new variable\n",
    "royalty = 7\n",
    "\n",
    "# calculate\n",
    "royalty * sales\n",
    "\n",
    "# assign output to a variable\n",
    "revenue = royalty * sales\n",
    "print(revenue)\n",
    "\n",
    "# update variable\n",
    "revenue = revenue + 550\n",
    "print(revenue)\n"
   ]
  }
 ],
 "metadata": {
  "kernelspec": {
   "display_name": "Python 3",
   "language": "python",
   "name": "python3"
  },
  "language_info": {
   "codemirror_mode": {
    "name": "ipython",
    "version": 3
   },
   "file_extension": ".py",
   "mimetype": "text/x-python",
   "name": "python",
   "nbconvert_exporter": "python",
   "pygments_lexer": "ipython3",
   "version": "3.9.6"
  }
 },
 "nbformat": 4,
 "nbformat_minor": 2
}
