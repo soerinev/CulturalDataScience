{
 "cells": [
  {
   "cell_type": "markdown",
   "id": "bc6f82bf-7caf-43ea-aaae-3a432988f6fe",
   "metadata": {},
   "source": [
    "# Class 2\n",
    "\n",
    "You can create branches to have safe spaces to fuck about your code.\n",
    "\n",
    "When other people are involved, they can fork your work. Or you can have different branches."
   ]
  },
  {
   "cell_type": "markdown",
   "id": "9e238c8f-e4ac-41de-aaab-e8aa4123b641",
   "metadata": {},
   "source": [
    "## Loops"
   ]
  },
  {
   "cell_type": "code",
   "execution_count": 1,
   "id": "069943b1-6998-4274-98f8-efda3383898c",
   "metadata": {},
   "outputs": [
    {
     "name": "stdout",
     "output_type": "stream",
     "text": [
      "0\n",
      "1\n",
      "2\n",
      "3\n",
      "4\n"
     ]
    }
   ],
   "source": [
    "# example of simple loop\n",
    "for x in range(5):\n",
    "    print(x)"
   ]
  },
  {
   "cell_type": "code",
   "execution_count": null,
   "id": "ac61b35e-b166-4770-9b03-7c0cb464ba4d",
   "metadata": {},
   "outputs": [],
   "source": []
  }
 ],
 "metadata": {
  "kernelspec": {
   "display_name": "Python 3 ",
   "language": "python",
   "name": "python3"
  },
  "language_info": {
   "codemirror_mode": {
    "name": "ipython",
    "version": 3
   },
   "file_extension": ".py",
   "mimetype": "text/x-python",
   "name": "python",
   "nbconvert_exporter": "python",
   "pygments_lexer": "ipython3",
   "version": "3.10.14"
  }
 },
 "nbformat": 4,
 "nbformat_minor": 5
}
