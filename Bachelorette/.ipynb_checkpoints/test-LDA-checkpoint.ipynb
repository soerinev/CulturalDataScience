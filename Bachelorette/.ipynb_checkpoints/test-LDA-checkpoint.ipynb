{
 "cells": [
  {
   "cell_type": "markdown",
   "id": "5d65153b-5d8e-4a57-8c26-329fff59acc4",
   "metadata": {},
   "source": [
    "# Topic modeling test: Latent Dirichlet Allocation (LDA)"
   ]
  },
  {
   "cell_type": "markdown",
   "id": "da234e1a-2562-400f-aeac-934fdac5d24d",
   "metadata": {},
   "source": [
    "### Form a corpus"
   ]
  },
  {
   "cell_type": "code",
   "execution_count": 1,
   "id": "1b71bebb-6e4e-44ba-9938-c1a60a370f64",
   "metadata": {},
   "outputs": [
    {
     "name": "stdout",
     "output_type": "stream",
     "text": [
      "['Sugar is bad to consume. My sister likes to have sugar, but not my father.', 'My father spends a lot of time driving my sister around to dance practice.', 'Doctors suggest that driving may cause increased stress and blood pressure.', 'Sometimes I feel pressure to perform well at school, but my father never seems to drive my sister to do better.', 'Health experts say that Sugar is not good for your lifestyle.']\n"
     ]
    }
   ],
   "source": [
    "# make random text\n",
    "article1 = \"Sugar is bad to consume. My sister likes to have sugar, but not my father.\"\n",
    "article2 = \"My father spends a lot of time driving my sister around to dance practice.\"\n",
    "article3 = \"Doctors suggest that driving may cause increased stress and blood pressure.\"\n",
    "article4 = \"Sometimes I feel pressure to perform well at school, but my father never seems to drive my sister to do better.\"\n",
    "article5 = \"Health experts say that Sugar is not good for your lifestyle.\"\n",
    "\n",
    "# compile documents\n",
    "articles_complete = [article1, article2, article3, article4, article5]\n",
    "print(articles_complete)"
   ]
  },
  {
   "cell_type": "markdown",
   "id": "ba6e6c19-bba6-4db4-97b9-fa3979905ff9",
   "metadata": {},
   "source": [
    "### Preprocessing"
   ]
  },
  {
   "cell_type": "code",
   "execution_count": 2,
   "id": "eb1616a8-5116-41b1-bf9a-9ab14680caf3",
   "metadata": {},
   "outputs": [
    {
     "name": "stdout",
     "output_type": "stream",
     "text": [
      "Requirement already satisfied: nltk in /opt/conda/lib/python3.10/site-packages (3.9.1)\n",
      "Requirement already satisfied: click in /opt/conda/lib/python3.10/site-packages (from nltk) (8.1.7)\n",
      "Requirement already satisfied: joblib in /opt/conda/lib/python3.10/site-packages (from nltk) (1.4.2)\n",
      "Requirement already satisfied: regex>=2021.8.3 in /opt/conda/lib/python3.10/site-packages (from nltk) (2024.9.11)\n",
      "Requirement already satisfied: tqdm in /opt/conda/lib/python3.10/site-packages (from nltk) (4.66.2)\n",
      "Note: you may need to restart the kernel to use updated packages.\n"
     ]
    },
    {
     "name": "stderr",
     "output_type": "stream",
     "text": [
      "[nltk_data] Downloading package wordnet to /home/ucloud/nltk_data...\n",
      "[nltk_data]   Package wordnet is already up-to-date!\n",
      "[nltk_data] Downloading package stopwords to /home/ucloud/nltk_data...\n",
      "[nltk_data]   Package stopwords is already up-to-date!\n"
     ]
    },
    {
     "name": "stdout",
     "output_type": "stream",
     "text": [
      "[['sugar', 'bad', 'consume', 'sister', 'like', 'sugar', 'father'], ['father', 'spends', 'lot', 'time', 'driving', 'sister', 'around', 'dance', 'practice'], ['doctor', 'suggest', 'driving', 'may', 'cause', 'increased', 'stress', 'blood', 'pressure'], ['sometimes', 'feel', 'pressure', 'perform', 'well', 'school', 'father', 'never', 'seems', 'drive', 'sister', 'better'], ['health', 'expert', 'say', 'sugar', 'good', 'lifestyle']]\n"
     ]
    }
   ],
   "source": [
    "# install and import nltk\n",
    "%pip install nltk\n",
    "import nltk\n",
    "\n",
    "# import necessary libraries \n",
    "nltk.download('wordnet') # I think this is necessary\n",
    "nltk.download('stopwords') # don't know if this is necessary\n",
    "from nltk.corpus import stopwords # don't know if this is necessary\n",
    "from nltk.stem.wordnet import WordNetLemmatizer\n",
    "import string\n",
    "\n",
    "# clean data (pre-steps)\n",
    "stop = set(stopwords.words('english')) # Create a set of English stopwords\n",
    "exclude = set(string.punctuation) # Create a set of punctuation characters\n",
    "lemma = WordNetLemmatizer() # Initialize the lemmatizer\n",
    "\n",
    "# Define a function to clean the articles\n",
    "def clean(article):\n",
    "    # Convert to lowercase and remove stopwords\n",
    "    stop_free = \" \".join([i for i in article.lower().split() if i not in stop])\n",
    "    \n",
    "    # Remove punctuation from the text\n",
    "    punc_free = ''.join(ch for ch in stop_free if ch not in exclude)\n",
    "    \n",
    "    # Lemmatize each word in the cleaned text\n",
    "    normalized = \" \".join(lemma.lemmatize(word) for word in punc_free.split())\n",
    "    \n",
    "    return normalized\n",
    "\n",
    "# Apply the cleaning function to each document in the complete document list\n",
    "articles_clean = [clean(article).split() for article in articles_complete]  \n",
    "print(articles_clean)\n"
   ]
  },
  {
   "cell_type": "markdown",
   "id": "f1f34231-4d1b-4fbf-9efd-9945db854a5f",
   "metadata": {},
   "source": [
    "### Prepare Document-Term Matrix\n",
    "##### aka how to convert a corpus into a document-term matrix."
   ]
  },
  {
   "cell_type": "code",
   "execution_count": 3,
   "id": "760e7c81-e900-46d6-8aec-6a013d241304",
   "metadata": {},
   "outputs": [
    {
     "name": "stdout",
     "output_type": "stream",
     "text": [
      "Requirement already satisfied: numpy in /opt/conda/lib/python3.10/site-packages (1.26.4)\n",
      "Requirement already satisfied: scipy in /opt/conda/lib/python3.10/site-packages (1.13.1)\n",
      "Note: you may need to restart the kernel to use updated packages.\n"
     ]
    }
   ],
   "source": [
    "# install numpy and scipy\n",
    "%pip install numpy scipy"
   ]
  },
  {
   "cell_type": "code",
   "execution_count": 4,
   "id": "5e6ab3e0-d8b0-4da4-87a6-8182f716e44a",
   "metadata": {},
   "outputs": [],
   "source": [
    "# import numpy and scipy\n",
    "import numpy as np\n",
    "import scipy"
   ]
  },
  {
   "cell_type": "code",
   "execution_count": 5,
   "id": "43893ab6-d91a-4452-bc42-b7ddfd4fffa8",
   "metadata": {},
   "outputs": [
    {
     "name": "stdout",
     "output_type": "stream",
     "text": [
      "Requirement already satisfied: gensim in /opt/conda/lib/python3.10/site-packages (4.3.3)\n",
      "Requirement already satisfied: numpy<2.0,>=1.18.5 in /opt/conda/lib/python3.10/site-packages (from gensim) (1.26.4)\n",
      "Requirement already satisfied: scipy<1.14.0,>=1.7.0 in /opt/conda/lib/python3.10/site-packages (from gensim) (1.13.1)\n",
      "Requirement already satisfied: smart-open>=1.8.1 in /opt/conda/lib/python3.10/site-packages (from gensim) (7.0.4)\n",
      "Requirement already satisfied: wrapt in /opt/conda/lib/python3.10/site-packages (from smart-open>=1.8.1->gensim) (1.16.0)\n",
      "Note: you may need to restart the kernel to use updated packages.\n"
     ]
    }
   ],
   "source": [
    "# Importing Gensim\n",
    "%pip install gensim\n",
    "import gensim\n",
    "from gensim import corpora"
   ]
  },
  {
   "cell_type": "code",
   "execution_count": 7,
   "id": "b3f5d500-b4c0-49ce-ba6e-5ef454ce0d92",
   "metadata": {},
   "outputs": [
    {
     "name": "stdout",
     "output_type": "stream",
     "text": [
      "[[(0, 1), (1, 1), (2, 1), (3, 1), (4, 1), (5, 2)], [(2, 1), (4, 1), (6, 1), (7, 1), (8, 1), (9, 1), (10, 1), (11, 1), (12, 1)], [(8, 1), (13, 1), (14, 1), (15, 1), (16, 1), (17, 1), (18, 1), (19, 1), (20, 1)], [(2, 1), (4, 1), (18, 1), (21, 1), (22, 1), (23, 1), (24, 1), (25, 1), (26, 1), (27, 1), (28, 1), (29, 1)], [(5, 1), (30, 1), (31, 1), (32, 1), (33, 1), (34, 1)]]\n"
     ]
    }
   ],
   "source": [
    "# Creating the term dictionary of our courpus, where every unique term is assigned an index. \n",
    "dictionary = corpora.Dictionary(articles_clean)\n",
    "\n",
    "# Converting list of documents (corpus) into Document Term Matrix using dictionary prepared above.\n",
    "doc_term_matrix = [dictionary.doc2bow(article) for article in articles_clean]\n",
    "print(doc_term_matrix)"
   ]
  },
  {
   "cell_type": "markdown",
   "id": "c2b58108-77b5-4814-b50a-006ace9aa440",
   "metadata": {},
   "source": [
    "### Running LDA model"
   ]
  },
  {
   "cell_type": "code",
   "execution_count": 13,
   "id": "85c5debe-8366-46d2-b9a0-1d5088d7fca0",
   "metadata": {},
   "outputs": [],
   "source": [
    "# Creating the object for LDA model using gensim library\n",
    "Lda = gensim.models.ldamodel.LdaModel\n",
    "\n",
    "# Running and Trainign LDA model on the document term matrix.\n",
    "ldamodel = Lda(doc_term_matrix, num_topics=3, id2word = dictionary, passes=50)"
   ]
  },
  {
   "cell_type": "code",
   "execution_count": 14,
   "id": "6b03e307-bc3c-49e0-87f2-00b430885ce8",
   "metadata": {},
   "outputs": [
    {
     "name": "stdout",
     "output_type": "stream",
     "text": [
      "[(0, '0.076*\"sugar\" + 0.076*\"sister\" + 0.076*\"father\"'), (1, '0.050*\"pressure\" + 0.050*\"increased\" + 0.050*\"stress\"'), (2, '0.065*\"driving\" + 0.064*\"dance\" + 0.064*\"around\"')]\n"
     ]
    }
   ],
   "source": [
    "# see results\n",
    "print(ldamodel.print_topics(num_topics=3, num_words=3))"
   ]
  },
  {
   "cell_type": "markdown",
   "id": "f84f6df4-ce3b-4098-8d08-f726eec35093",
   "metadata": {},
   "source": [
    "### Donzo pretty cool!!"
   ]
  },
  {
   "cell_type": "code",
   "execution_count": null,
   "id": "ca83b670-e668-41fc-aa23-a8f2b51f2ee5",
   "metadata": {},
   "outputs": [],
   "source": []
  }
 ],
 "metadata": {
  "kernelspec": {
   "display_name": "Python 3 ",
   "language": "python",
   "name": "python3"
  },
  "language_info": {
   "codemirror_mode": {
    "name": "ipython",
    "version": 3
   },
   "file_extension": ".py",
   "mimetype": "text/x-python",
   "name": "python",
   "nbconvert_exporter": "python",
   "pygments_lexer": "ipython3",
   "version": "3.10.14"
  }
 },
 "nbformat": 4,
 "nbformat_minor": 5
}
