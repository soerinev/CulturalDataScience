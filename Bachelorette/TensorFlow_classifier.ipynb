{
 "cells": [
  {
   "cell_type": "markdown",
   "id": "a489c974-4dbb-4573-829c-4d342e0c1ceb",
   "metadata": {},
   "source": [
    "# Neural network classifier with TensorFlow\n",
    "##### https://colab.research.google.com/github/lmoroney/dlaicourse/blob/master/TensorFlow%20In%20Practice/Course%203%20-%20NLP/Course%203%20-%20Week%202%20-%20Lesson%202.ipynb#scrollTo=4gs9htvM7n_x\n",
    "##### https://www.youtube.com/watch?v=Y_hzMnRXjhI&list=PLQY2H8rRoyvzDbLUZkbudP-MFQZwNmU4S&index=3\n"
   ]
  },
  {
   "cell_type": "markdown",
   "id": "732063aa-c4e0-445b-af89-e18c9341aca8",
   "metadata": {},
   "source": [
    "### Load data + preprocessing"
   ]
  },
  {
   "cell_type": "code",
   "execution_count": 57,
   "id": "a62676a3-8879-4933-8afb-5af823cfd6a8",
   "metadata": {},
   "outputs": [],
   "source": [
    "# Run this to ensure TensorFlow 2.x is used\n",
    "try:\n",
    "  # %tensorflow_version only exists in Colab.\n",
    "  %tensorflow_version 2.x\n",
    "except Exception:\n",
    "  pass"
   ]
  },
  {
   "cell_type": "code",
   "execution_count": 58,
   "id": "401dcdea-baaf-4219-bb17-b6c605687760",
   "metadata": {},
   "outputs": [],
   "source": [
    "# import json - a built-in python package\n",
    "import json\n",
    "\n",
    "# load data and make it a python list\n",
    "datastore = []\n",
    "with open(\"data/Sarcasm_Headlines_Dataset.json\", 'r') as f:\n",
    "    for line in f:\n",
    "        datastore.append(json.loads(line))\n",
    "\n",
    "sentences = []\n",
    "labels = []\n",
    "urls = []\n",
    "for item in datastore:\n",
    "    sentences.append(item['headline'])\n",
    "    labels.append(item['is_sarcastic'])\n",
    "    urls.append(item['article_link'])\n",
    "\n",
    "# view data\n",
    "#datastore\n"
   ]
  },
  {
   "cell_type": "code",
   "execution_count": 74,
   "id": "276767ce-cb4b-426c-a2e2-c9c3a389421a",
   "metadata": {},
   "outputs": [
    {
     "name": "stdout",
     "output_type": "stream",
     "text": [
      "28619\n",
      "20000\n",
      "20000\n",
      "(20000, 100)\n"
     ]
    }
   ],
   "source": [
    "print(len(datastore))\n",
    "print(len(training_sentences))  # Should be 20000\n",
    "print(len(training_labels)) \n",
    "print(training_padded.shape)  # Should be (20000, max_length)"
   ]
  },
  {
   "cell_type": "code",
   "execution_count": 59,
   "id": "31a7191f-4d0e-4c3b-ab8d-0c15dac21928",
   "metadata": {},
   "outputs": [
    {
     "name": "stdout",
     "output_type": "stream",
     "text": [
      "[16004   355  3167  7474  2644     3   661  1119     0     0     0     0\n",
      "     0     0     0     0     0     0     0     0     0     0     0     0\n",
      "     0     0     0     0     0     0     0     0     0     0     0     0\n",
      "     0     0     0     0     0     0     0     0     0     0     0     0\n",
      "     0     0     0     0     0     0     0     0     0     0     0     0\n",
      "     0     0     0     0     0     0     0     0     0     0     0     0\n",
      "     0     0     0     0     0     0     0     0     0     0     0     0\n",
      "     0     0     0     0     0     0     0     0     0     0     0     0\n",
      "     0     0     0     0     0     0     0     0     0     0     0     0\n",
      "     0     0     0     0     0     0     0     0     0     0     0     0\n",
      "     0     0     0     0     0     0     0     0     0     0     0     0\n",
      "     0     0     0     0     0     0     0     0     0     0     0     0\n",
      "     0     0     0     0     0     0     0     0]\n",
      "(28619, 152)\n"
     ]
    }
   ],
   "source": [
    "# install more packages - I'm not sure exactly what all these lines do...\n",
    "#%pip install tensorflow\n",
    "import tensorflow as tf\n",
    "from tensorflow.keras.preprocessing.text import Tokenizer\n",
    "from tensorflow.keras.preprocessing.sequence import pad_sequences\n",
    "\n",
    "#tokenizer = Tokenizer(oov_token=\"<OOV>\")\n",
    "#tokenizer.fit_on_texts(sentences)\n",
    "#word_index = tokenizer.word_index\n",
    "\n",
    "#sequences = tokenizer.texts_to_sequences(sentences)\n",
    "#padded = pad_sequences(sequences, padding='post')\n",
    "#print(padded[0])\n",
    "#print(padded.shape)\n",
    "\n"
   ]
  },
  {
   "cell_type": "code",
   "execution_count": 60,
   "id": "ef9e5060-c967-42ad-9e74-66d7ee1f68cf",
   "metadata": {},
   "outputs": [],
   "source": [
    "# divide data into training and test sets\n",
    "training_size = 20000\n",
    "\n",
    "training_sentences = sentences[0:training_size]\n",
    "testing_sentences = sentences[training_size:]\n",
    "training_labels = labels[0:training_size]\n",
    "testing_labels = labels[training_size:]"
   ]
  },
  {
   "cell_type": "code",
   "execution_count": 61,
   "id": "c7d51aec-934c-40b6-b570-36be8e9b25d3",
   "metadata": {},
   "outputs": [],
   "source": [
    "# only fit the tokenizer to the training set because the classifier shouldn't see the test data\n",
    "\n",
    "# defining stuff (honestly not sure why all these numbers are what they are\"\n",
    "vocab_size = 10000\n",
    "max_length = 100\n",
    "trunc_type='post'\n",
    "padding_type='post'\n",
    "oov_tok = \"<OOV>\"\n",
    "\n",
    "# define tokenizer\n",
    "tokenizer = Tokenizer(num_words=vocab_size, oov_token=oov_tok)\n",
    "tokenizer.fit_on_texts(training_sentences)\n",
    "word_index = tokenizer.word_index\n",
    "\n",
    "# fit tokenizer to training set\n",
    "training_sequences = tokenizer.texts_to_sequences(training_sentences)\n",
    "training_padded = pad_sequences(training_sequences, maxlen=max_length,\n",
    "                                padding=padding_type, truncating=trunc_type)\n",
    "\n",
    "# fit tokenizer to test set\n",
    "testing_sequences = tokenizer.texts_to_sequences(testing_sentences)\n",
    "testing_padded = pad_sequences(testing_sequences, maxlen=max_length,\n",
    "                                padding=padding_type, truncating=trunc_type)"
   ]
  },
  {
   "cell_type": "markdown",
   "id": "ab9444e8-2570-4f65-996c-60547031ebe4",
   "metadata": {},
   "source": [
    "### For realz neural network code iihhh\n"
   ]
  },
  {
   "cell_type": "code",
   "execution_count": 62,
   "id": "ce0fff3d-1a34-4ed9-a83e-5a0c745c1df8",
   "metadata": {},
   "outputs": [],
   "source": [
    "# apparantly I need this to get it to work with TensorFlow 2.x\n",
    "import numpy as np\n",
    "training_padded = np.array(training_padded)\n",
    "training_labels = np.array(training_labels)\n",
    "testing_padded = np.array(testing_padded)\n",
    "testing_labels = np.array(testing_labels)"
   ]
  },
  {
   "cell_type": "code",
   "execution_count": 63,
   "id": "33426192-0620-480c-81b4-8f15e44c7e21",
   "metadata": {},
   "outputs": [],
   "source": [
    "embedding_dim = 16 # don't know what this is\n",
    "\n",
    "# this is the actual neural network model\n",
    "model = tf.keras.Sequential([\n",
    "    tf.keras.layers.Embedding(vocab_size, embedding_dim, input_length=max_length), # this is an embedding, where the direction of each word will be learned epoch by epoch\n",
    "    tf.keras.layers.GlobalAveragePooling1D(), # here we pool with a global average pooling i.e. adding up the vectors as demonstrated earlier\n",
    "    tf.keras.layers.Dense(24, activation='relu'),\n",
    "    tf.keras.layers.Dense(1, activation='sigmoid')\n",
    "])\n",
    "model.compile(loss='binary_crossentropy',optimizer='adam',metrics=['accuracy'])"
   ]
  },
  {
   "cell_type": "code",
   "execution_count": 64,
   "id": "e503ddf1-bda0-4b28-b14e-18e62527c4ed",
   "metadata": {},
   "outputs": [
    {
     "data": {
      "text/html": [
       "<pre style=\"white-space:pre;overflow-x:auto;line-height:normal;font-family:Menlo,'DejaVu Sans Mono',consolas,'Courier New',monospace\"><span style=\"font-weight: bold\">Model: \"sequential_4\"</span>\n",
       "</pre>\n"
      ],
      "text/plain": [
       "\u001b[1mModel: \"sequential_4\"\u001b[0m\n"
      ]
     },
     "metadata": {},
     "output_type": "display_data"
    },
    {
     "data": {
      "text/html": [
       "<pre style=\"white-space:pre;overflow-x:auto;line-height:normal;font-family:Menlo,'DejaVu Sans Mono',consolas,'Courier New',monospace\">┏━━━━━━━━━━━━━━━━━━━━━━━━━━━━━━━━━┳━━━━━━━━━━━━━━━━━━━━━━━━┳━━━━━━━━━━━━━━━┓\n",
       "┃<span style=\"font-weight: bold\"> Layer (type)                    </span>┃<span style=\"font-weight: bold\"> Output Shape           </span>┃<span style=\"font-weight: bold\">       Param # </span>┃\n",
       "┡━━━━━━━━━━━━━━━━━━━━━━━━━━━━━━━━━╇━━━━━━━━━━━━━━━━━━━━━━━━╇━━━━━━━━━━━━━━━┩\n",
       "│ embedding_4 (<span style=\"color: #0087ff; text-decoration-color: #0087ff\">Embedding</span>)         │ ?                      │   <span style=\"color: #00af00; text-decoration-color: #00af00\">0</span> (unbuilt) │\n",
       "├─────────────────────────────────┼────────────────────────┼───────────────┤\n",
       "│ global_average_pooling1d_4      │ ?                      │   <span style=\"color: #00af00; text-decoration-color: #00af00\">0</span> (unbuilt) │\n",
       "│ (<span style=\"color: #0087ff; text-decoration-color: #0087ff\">GlobalAveragePooling1D</span>)        │                        │               │\n",
       "├─────────────────────────────────┼────────────────────────┼───────────────┤\n",
       "│ dense_8 (<span style=\"color: #0087ff; text-decoration-color: #0087ff\">Dense</span>)                 │ ?                      │   <span style=\"color: #00af00; text-decoration-color: #00af00\">0</span> (unbuilt) │\n",
       "├─────────────────────────────────┼────────────────────────┼───────────────┤\n",
       "│ dense_9 (<span style=\"color: #0087ff; text-decoration-color: #0087ff\">Dense</span>)                 │ ?                      │   <span style=\"color: #00af00; text-decoration-color: #00af00\">0</span> (unbuilt) │\n",
       "└─────────────────────────────────┴────────────────────────┴───────────────┘\n",
       "</pre>\n"
      ],
      "text/plain": [
       "┏━━━━━━━━━━━━━━━━━━━━━━━━━━━━━━━━━┳━━━━━━━━━━━━━━━━━━━━━━━━┳━━━━━━━━━━━━━━━┓\n",
       "┃\u001b[1m \u001b[0m\u001b[1mLayer (type)                   \u001b[0m\u001b[1m \u001b[0m┃\u001b[1m \u001b[0m\u001b[1mOutput Shape          \u001b[0m\u001b[1m \u001b[0m┃\u001b[1m \u001b[0m\u001b[1m      Param #\u001b[0m\u001b[1m \u001b[0m┃\n",
       "┡━━━━━━━━━━━━━━━━━━━━━━━━━━━━━━━━━╇━━━━━━━━━━━━━━━━━━━━━━━━╇━━━━━━━━━━━━━━━┩\n",
       "│ embedding_4 (\u001b[38;5;33mEmbedding\u001b[0m)         │ ?                      │   \u001b[38;5;34m0\u001b[0m (unbuilt) │\n",
       "├─────────────────────────────────┼────────────────────────┼───────────────┤\n",
       "│ global_average_pooling1d_4      │ ?                      │   \u001b[38;5;34m0\u001b[0m (unbuilt) │\n",
       "│ (\u001b[38;5;33mGlobalAveragePooling1D\u001b[0m)        │                        │               │\n",
       "├─────────────────────────────────┼────────────────────────┼───────────────┤\n",
       "│ dense_8 (\u001b[38;5;33mDense\u001b[0m)                 │ ?                      │   \u001b[38;5;34m0\u001b[0m (unbuilt) │\n",
       "├─────────────────────────────────┼────────────────────────┼───────────────┤\n",
       "│ dense_9 (\u001b[38;5;33mDense\u001b[0m)                 │ ?                      │   \u001b[38;5;34m0\u001b[0m (unbuilt) │\n",
       "└─────────────────────────────────┴────────────────────────┴───────────────┘\n"
      ]
     },
     "metadata": {},
     "output_type": "display_data"
    },
    {
     "data": {
      "text/html": [
       "<pre style=\"white-space:pre;overflow-x:auto;line-height:normal;font-family:Menlo,'DejaVu Sans Mono',consolas,'Courier New',monospace\"><span style=\"font-weight: bold\"> Total params: </span><span style=\"color: #00af00; text-decoration-color: #00af00\">0</span> (0.00 B)\n",
       "</pre>\n"
      ],
      "text/plain": [
       "\u001b[1m Total params: \u001b[0m\u001b[38;5;34m0\u001b[0m (0.00 B)\n"
      ]
     },
     "metadata": {},
     "output_type": "display_data"
    },
    {
     "data": {
      "text/html": [
       "<pre style=\"white-space:pre;overflow-x:auto;line-height:normal;font-family:Menlo,'DejaVu Sans Mono',consolas,'Courier New',monospace\"><span style=\"font-weight: bold\"> Trainable params: </span><span style=\"color: #00af00; text-decoration-color: #00af00\">0</span> (0.00 B)\n",
       "</pre>\n"
      ],
      "text/plain": [
       "\u001b[1m Trainable params: \u001b[0m\u001b[38;5;34m0\u001b[0m (0.00 B)\n"
      ]
     },
     "metadata": {},
     "output_type": "display_data"
    },
    {
     "data": {
      "text/html": [
       "<pre style=\"white-space:pre;overflow-x:auto;line-height:normal;font-family:Menlo,'DejaVu Sans Mono',consolas,'Courier New',monospace\"><span style=\"font-weight: bold\"> Non-trainable params: </span><span style=\"color: #00af00; text-decoration-color: #00af00\">0</span> (0.00 B)\n",
       "</pre>\n"
      ],
      "text/plain": [
       "\u001b[1m Non-trainable params: \u001b[0m\u001b[38;5;34m0\u001b[0m (0.00 B)\n"
      ]
     },
     "metadata": {},
     "output_type": "display_data"
    }
   ],
   "source": [
    "model.summary() # emmm the table doesn't really show anything..."
   ]
  },
  {
   "cell_type": "code",
   "execution_count": 65,
   "id": "605a1c74-42d1-4d7c-94cd-e1ef0fdb3911",
   "metadata": {},
   "outputs": [
    {
     "name": "stdout",
     "output_type": "stream",
     "text": [
      "Epoch 1/30\n",
      "625/625 - 10s - 16ms/step - accuracy: 0.5572 - loss: 0.6824 - val_accuracy: 0.7778 - val_loss: 0.6303\n",
      "Epoch 2/30\n",
      "625/625 - 8s - 13ms/step - accuracy: 0.7529 - loss: 0.5235 - val_accuracy: 0.7477 - val_loss: 0.4827\n",
      "Epoch 3/30\n",
      "625/625 - 8s - 13ms/step - accuracy: 0.8227 - loss: 0.3967 - val_accuracy: 0.8361 - val_loss: 0.3768\n",
      "Epoch 4/30\n",
      "625/625 - 8s - 13ms/step - accuracy: 0.8532 - loss: 0.3452 - val_accuracy: 0.8110 - val_loss: 0.3970\n",
      "Epoch 5/30\n",
      "625/625 - 8s - 13ms/step - accuracy: 0.8681 - loss: 0.3104 - val_accuracy: 0.8546 - val_loss: 0.3403\n",
      "Epoch 6/30\n",
      "625/625 - 8s - 13ms/step - accuracy: 0.8813 - loss: 0.2840 - val_accuracy: 0.8487 - val_loss: 0.3415\n",
      "Epoch 7/30\n",
      "625/625 - 8s - 13ms/step - accuracy: 0.8926 - loss: 0.2625 - val_accuracy: 0.8530 - val_loss: 0.3329\n",
      "Epoch 8/30\n",
      "625/625 - 8s - 13ms/step - accuracy: 0.9016 - loss: 0.2409 - val_accuracy: 0.8547 - val_loss: 0.3318\n",
      "Epoch 9/30\n",
      "625/625 - 8s - 13ms/step - accuracy: 0.9044 - loss: 0.2352 - val_accuracy: 0.8496 - val_loss: 0.3486\n",
      "Epoch 10/30\n",
      "625/625 - 8s - 13ms/step - accuracy: 0.9155 - loss: 0.2105 - val_accuracy: 0.8168 - val_loss: 0.4300\n",
      "Epoch 11/30\n",
      "625/625 - 8s - 13ms/step - accuracy: 0.9258 - loss: 0.1893 - val_accuracy: 0.8552 - val_loss: 0.3450\n",
      "Epoch 12/30\n",
      "625/625 - 8s - 13ms/step - accuracy: 0.9236 - loss: 0.1907 - val_accuracy: 0.8471 - val_loss: 0.3545\n",
      "Epoch 13/30\n",
      "625/625 - 8s - 13ms/step - accuracy: 0.9291 - loss: 0.1813 - val_accuracy: 0.8540 - val_loss: 0.3571\n",
      "Epoch 14/30\n",
      "625/625 - 8s - 13ms/step - accuracy: 0.9284 - loss: 0.1790 - val_accuracy: 0.8371 - val_loss: 0.4113\n",
      "Epoch 15/30\n",
      "625/625 - 8s - 13ms/step - accuracy: 0.9355 - loss: 0.1651 - val_accuracy: 0.8321 - val_loss: 0.4298\n",
      "Epoch 16/30\n",
      "625/625 - 8s - 13ms/step - accuracy: 0.9408 - loss: 0.1523 - val_accuracy: 0.8359 - val_loss: 0.4305\n",
      "Epoch 17/30\n",
      "625/625 - 8s - 13ms/step - accuracy: 0.9419 - loss: 0.1519 - val_accuracy: 0.8408 - val_loss: 0.3984\n",
      "Epoch 18/30\n",
      "625/625 - 8s - 13ms/step - accuracy: 0.9453 - loss: 0.1398 - val_accuracy: 0.8381 - val_loss: 0.4169\n",
      "Epoch 19/30\n",
      "625/625 - 8s - 13ms/step - accuracy: 0.9504 - loss: 0.1333 - val_accuracy: 0.8434 - val_loss: 0.4190\n",
      "Epoch 20/30\n",
      "625/625 - 8s - 13ms/step - accuracy: 0.9490 - loss: 0.1318 - val_accuracy: 0.8397 - val_loss: 0.4284\n",
      "Epoch 21/30\n",
      "625/625 - 8s - 13ms/step - accuracy: 0.9485 - loss: 0.1321 - val_accuracy: 0.8111 - val_loss: 0.5638\n",
      "Epoch 22/30\n",
      "625/625 - 8s - 13ms/step - accuracy: 0.9502 - loss: 0.1311 - val_accuracy: 0.8391 - val_loss: 0.4432\n",
      "Epoch 23/30\n",
      "625/625 - 8s - 13ms/step - accuracy: 0.9552 - loss: 0.1183 - val_accuracy: 0.8351 - val_loss: 0.4652\n",
      "Epoch 24/30\n",
      "625/625 - 8s - 13ms/step - accuracy: 0.9540 - loss: 0.1204 - val_accuracy: 0.8332 - val_loss: 0.4719\n",
      "Epoch 25/30\n",
      "625/625 - 8s - 13ms/step - accuracy: 0.9524 - loss: 0.1257 - val_accuracy: 0.8226 - val_loss: 0.5049\n",
      "Epoch 26/30\n",
      "625/625 - 8s - 13ms/step - accuracy: 0.9596 - loss: 0.1082 - val_accuracy: 0.8292 - val_loss: 0.5113\n",
      "Epoch 27/30\n",
      "625/625 - 8s - 13ms/step - accuracy: 0.9653 - loss: 0.0982 - val_accuracy: 0.8340 - val_loss: 0.5082\n",
      "Epoch 28/30\n",
      "625/625 - 8s - 13ms/step - accuracy: 0.9588 - loss: 0.1068 - val_accuracy: 0.8288 - val_loss: 0.5322\n",
      "Epoch 29/30\n",
      "625/625 - 8s - 13ms/step - accuracy: 0.9601 - loss: 0.1061 - val_accuracy: 0.8291 - val_loss: 0.5242\n",
      "Epoch 30/30\n",
      "625/625 - 8s - 13ms/step - accuracy: 0.9588 - loss: 0.1094 - val_accuracy: 0.8210 - val_loss: 0.5740\n"
     ]
    }
   ],
   "source": [
    "num_epochs = 30\n",
    "history = model.fit(training_padded, training_labels, epochs=num_epochs, validation_data=(testing_padded, testing_labels), verbose=2)"
   ]
  },
  {
   "cell_type": "code",
   "execution_count": 66,
   "id": "ba4cb708-a372-49dc-8a19-b8167143b568",
   "metadata": {},
   "outputs": [
    {
     "data": {
      "image/png": "[encoded data removed]",
      "text/plain": [
       "<Figure size 640x480 with 1 Axes>"
      ]
     },
     "metadata": {},
     "output_type": "display_data"
    },
    {
     "data": {
      "image/png": "[encoded data removed]",
      "text/plain": [
       "<Figure size 640x480 with 1 Axes>"
      ]
     },
     "metadata": {},
     "output_type": "display_data"
    }
   ],
   "source": [
    "# plot model results\n",
    "import matplotlib.pyplot as plt\n",
    "\n",
    "\n",
    "def plot_graphs(history, string):\n",
    "  plt.plot(history.history[string])\n",
    "  plt.plot(history.history['val_'+string])\n",
    "  plt.xlabel(\"Epochs\")\n",
    "  plt.ylabel(string)\n",
    "  plt.legend([string, 'val_'+string])\n",
    "  plt.show()\n",
    "  \n",
    "plot_graphs(history, \"accuracy\")\n",
    "plot_graphs(history, \"loss\")"
   ]
  },
  {
   "cell_type": "markdown",
   "id": "529e631b-9264-4777-b608-ed34e363411e",
   "metadata": {},
   "source": [
    "### I'm not if this is where the section with the function to categorize sentences starts"
   ]
  },
  {
   "cell_type": "code",
   "execution_count": 67,
   "id": "9f6b7d4b-f774-4c89-bc51-7b92c754bbb9",
   "metadata": {},
   "outputs": [
    {
     "name": "stdout",
     "output_type": "stream",
     "text": [
      "<OOV> scientists unveil doomsday clock of hair loss ? ? ? ? ? ? ? ? ? ? ? ? ? ? ? ? ? ? ? ? ? ? ? ? ? ? ? ? ? ? ? ? ? ? ? ? ? ? ? ? ? ? ? ? ? ? ? ? ? ? ? ? ? ? ? ? ? ? ? ? ? ? ? ? ? ? ? ? ? ? ? ? ? ? ? ? ? ? ? ? ? ? ? ? ? ? ? ? ? ? ? ?\n",
      "eat your veggies: 9 deliciously different recipes\n",
      "0\n"
     ]
    }
   ],
   "source": [
    "# emmm I think I'm creating a function to categorize unseen data (sentences)\n",
    "reverse_word_index = dict([(value, key) for (key, value) in word_index.items()])\n",
    "\n",
    "def decode_sentence(text):\n",
    "    return ' '.join([reverse_word_index.get(i, '?') for i in text])\n",
    "\n",
    "print(decode_sentence(training_padded[0]))\n",
    "print(training_sentences[2])\n",
    "print(labels[2])"
   ]
  },
  {
   "cell_type": "code",
   "execution_count": 68,
   "id": "1bd1a892-c1e3-4c17-8211-882e0650921d",
   "metadata": {},
   "outputs": [
    {
     "name": "stdout",
     "output_type": "stream",
     "text": [
      "(10000, 16)\n"
     ]
    }
   ],
   "source": [
    "# don't know what's happening here\n",
    "e = model.layers[0]\n",
    "weights = e.get_weights()[0]\n",
    "print(weights.shape) # shape: (vocab_size, embedding_dim)"
   ]
  },
  {
   "cell_type": "code",
   "execution_count": 69,
   "id": "cff8c27f-aa7b-4e4d-861b-38e0d314f5a3",
   "metadata": {},
   "outputs": [],
   "source": [
    "# don't know what's happening here\n",
    "import io\n",
    "\n",
    "out_v = io.open('vecs.tsv', 'w', encoding='utf-8')\n",
    "out_m = io.open('meta.tsv', 'w', encoding='utf-8')\n",
    "for word_num in range(1, vocab_size):\n",
    "  word = reverse_word_index[word_num]\n",
    "  embeddings = weights[word_num]\n",
    "  out_m.write(word + \"\\n\")\n",
    "  out_v.write('\\t'.join([str(x) for x in embeddings]) + \"\\n\")\n",
    "out_v.close()\n",
    "out_m.close()"
   ]
  },
  {
   "cell_type": "code",
   "execution_count": 70,
   "id": "d67a3425-7bbd-4956-985a-53ab3a6d6cee",
   "metadata": {},
   "outputs": [],
   "source": [
    "# don't know what's happening here\n",
    "try:\n",
    "  from google.colab import files\n",
    "except ImportError:\n",
    "  pass\n",
    "else:\n",
    "  files.download('vecs.tsv')\n",
    "  files.download('meta.tsv')"
   ]
  },
  {
   "cell_type": "code",
   "execution_count": 71,
   "id": "e124f938-53ec-4329-a8e2-dfd2952a1f3f",
   "metadata": {},
   "outputs": [
    {
     "name": "stdout",
     "output_type": "stream",
     "text": [
      "\u001b[1m1/1\u001b[0m \u001b[32m━━━━━━━━━━━━━━━━━━━━\u001b[0m\u001b[37m\u001b[0m \u001b[1m0s\u001b[0m 50ms/step\n",
      "[[0.2198071 ]\n",
      " [0.00175139]\n",
      " [0.00223877]]\n"
     ]
    }
   ],
   "source": [
    "# create random sentences (are they random tho or a part of the test set?? Nope, it can take random sentences)\n",
    "sentence = [\"granny starting to fear spiders in the garden might be real\", \"game of thrones season finale showing this sunday night\", \"I really love waking up at 7 am on Mondays\"]\n",
    "\n",
    "# use the tokenizer from earlier to convert the sentences into sequences. This way the words will have the same tokens as the training set.\n",
    "sequences = tokenizer.texts_to_sequences(sentence)\n",
    "\n",
    "# then pad those sequences to be the same dimensions as the those in the training set and use the same padding type\n",
    "padded = pad_sequences(sequences, maxlen=max_length, padding=padding_type, truncating=trunc_type)\n",
    "\n",
    "# finally, predict on the padded set\n",
    "print(model.predict(padded))"
   ]
  },
  {
   "cell_type": "code",
   "execution_count": null,
   "id": "fa09af81-10ff-48d6-8136-c206ba45a30c",
   "metadata": {},
   "outputs": [],
   "source": []
  }
 ],
 "metadata": {
  "kernelspec": {
   "display_name": "Python 3 ",
   "language": "python",
   "name": "python3"
  },
  "language_info": {
   "codemirror_mode": {
    "name": "ipython",
    "version": 3
   },
   "file_extension": ".py",
   "mimetype": "text/x-python",
   "name": "python",
   "nbconvert_exporter": "python",
   "pygments_lexer": "ipython3",
   "version": "3.10.14"
  }
 },
 "nbformat": 4,
 "nbformat_minor": 5
}
