{
 "cells": [
  {
   "cell_type": "code",
   "execution_count": 4,
   "id": "3c77d050-d5c9-4bfe-89ec-bc0c0c6ea844",
   "metadata": {},
   "outputs": [],
   "source": [
    "data <- \"hi\"\n",
    "# wtf this is r... Imma try and make an actual r document cause the r keyboard shortcuts don't work here"
   ]
  },
  {
   "cell_type": "code",
   "execution_count": null,
   "id": "ba13cd03-1538-419b-87cc-12b8d748c13d",
   "metadata": {},
   "outputs": [],
   "source": []
  }
 ],
 "metadata": {
  "kernelspec": {
   "display_name": "R",
   "language": "R",
   "name": "ir"
  },
  "language_info": {
   "codemirror_mode": "r",
   "file_extension": ".r",
   "mimetype": "text/x-r-source",
   "name": "R",
   "pygments_lexer": "r",
   "version": "4.4.1"
  }
 },
 "nbformat": 4,
 "nbformat_minor": 5
}
