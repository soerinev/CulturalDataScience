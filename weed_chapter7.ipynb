{
 "cells": [
  {
   "cell_type": "markdown",
   "id": "fda02d92-d868-4201-b875-29313098d1fe",
   "metadata": {},
   "source": [
    "# Chapter 7: Data wrangling\n"
   ]
  },
  {
   "cell_type": "markdown",
   "id": "1276f492-ad23-49d7-bd5c-c3f2e233ca43",
   "metadata": {},
   "source": [
    "## Dataframes\n"
   ]
  },
  {
   "cell_type": "code",
   "execution_count": 2,
   "id": "c2cb8619-f27d-424d-ab4a-b08339cee072",
   "metadata": {},
   "outputs": [
    {
     "data": {
      "text/html": [
       "<div>\n",
       "<style scoped>\n",
       "    .dataframe tbody tr th:only-of-type {\n",
       "        vertical-align: middle;\n",
       "    }\n",
       "\n",
       "    .dataframe tbody tr th {\n",
       "        vertical-align: top;\n",
       "    }\n",
       "\n",
       "    .dataframe thead th {\n",
       "        text-align: right;\n",
       "    }\n",
       "</style>\n",
       "<table border=\"1\" class=\"dataframe\">\n",
       "  <thead>\n",
       "    <tr style=\"text-align: right;\">\n",
       "      <th></th>\n",
       "      <th>age</th>\n",
       "      <th>score</th>\n",
       "      <th>rt</th>\n",
       "      <th>group</th>\n",
       "    </tr>\n",
       "  </thead>\n",
       "  <tbody>\n",
       "    <tr>\n",
       "      <th>0</th>\n",
       "      <td>17</td>\n",
       "      <td>12</td>\n",
       "      <td>3.552</td>\n",
       "      <td>test</td>\n",
       "    </tr>\n",
       "    <tr>\n",
       "      <th>1</th>\n",
       "      <td>19</td>\n",
       "      <td>10</td>\n",
       "      <td>1.624</td>\n",
       "      <td>test</td>\n",
       "    </tr>\n",
       "    <tr>\n",
       "      <th>2</th>\n",
       "      <td>21</td>\n",
       "      <td>11</td>\n",
       "      <td>6.431</td>\n",
       "      <td>test</td>\n",
       "    </tr>\n",
       "    <tr>\n",
       "      <th>3</th>\n",
       "      <td>37</td>\n",
       "      <td>15</td>\n",
       "      <td>7.132</td>\n",
       "      <td>test</td>\n",
       "    </tr>\n",
       "    <tr>\n",
       "      <th>4</th>\n",
       "      <td>18</td>\n",
       "      <td>16</td>\n",
       "      <td>2.925</td>\n",
       "      <td>test</td>\n",
       "    </tr>\n",
       "    <tr>\n",
       "      <th>5</th>\n",
       "      <td>19</td>\n",
       "      <td>14</td>\n",
       "      <td>4.662</td>\n",
       "      <td>control</td>\n",
       "    </tr>\n",
       "    <tr>\n",
       "      <th>6</th>\n",
       "      <td>47</td>\n",
       "      <td>25</td>\n",
       "      <td>3.634</td>\n",
       "      <td>control</td>\n",
       "    </tr>\n",
       "    <tr>\n",
       "      <th>7</th>\n",
       "      <td>18</td>\n",
       "      <td>21</td>\n",
       "      <td>3.635</td>\n",
       "      <td>control</td>\n",
       "    </tr>\n",
       "    <tr>\n",
       "      <th>8</th>\n",
       "      <td>19</td>\n",
       "      <td>29</td>\n",
       "      <td>5.234</td>\n",
       "      <td>control</td>\n",
       "    </tr>\n",
       "  </tbody>\n",
       "</table>\n",
       "</div>"
      ],
      "text/plain": [
       "   age  score     rt    group\n",
       "0   17     12  3.552     test\n",
       "1   19     10  1.624     test\n",
       "2   21     11  6.431     test\n",
       "3   37     15  7.132     test\n",
       "4   18     16  2.925     test\n",
       "5   19     14  4.662  control\n",
       "6   47     25  3.634  control\n",
       "7   18     21  3.635  control\n",
       "8   19     29  5.234  control"
      ]
     },
     "execution_count": 2,
     "metadata": {},
     "output_type": "execute_result"
    }
   ],
   "source": [
    "# dataaaa\n",
    "age = [17, 19, 21, 37, 18, 19, 47, 18, 19]\n",
    "score = [12, 10, 11, 15, 16, 14, 25, 21, 29]\n",
    "rt = [3.552, 1.624, 6.431, 7.132, 2.925, 4.662, 3.634, 3.635, 5.234]\n",
    "group = [\"test\", \"test\", \"test\", \"test\", \"test\", \"control\", \"control\", \"control\", \"control\"]\n",
    "\n",
    "# make into dataframe\n",
    "import pandas as pd\n",
    "\n",
    "df = pd.DataFrame(\n",
    "    {'age': age,\n",
    "     'score': score,\n",
    "     'rt': rt,\n",
    "     'group': group\n",
    "    })\n",
    "df"
   ]
  },
  {
   "cell_type": "code",
   "execution_count": 3,
   "id": "8b460e4f-3553-4a7f-8e6a-18e320838b1a",
   "metadata": {},
   "outputs": [
    {
     "data": {
      "text/plain": [
       "0    12\n",
       "1    10\n",
       "2    11\n",
       "3    15\n",
       "4    16\n",
       "5    14\n",
       "6    25\n",
       "7    21\n",
       "8    29\n",
       "Name: score, dtype: int64"
      ]
     },
     "execution_count": 3,
     "metadata": {},
     "output_type": "execute_result"
    }
   ],
   "source": [
    "# pull out a stored variable\n",
    "score_data = df['score']\n",
    "score_data"
   ]
  },
  {
   "cell_type": "code",
   "execution_count": 4,
   "id": "9196905e-060b-4c38-8163-f76cdd3ac042",
   "metadata": {},
   "outputs": [
    {
     "data": {
      "text/plain": [
       "0    12\n",
       "1    10\n",
       "2    11\n",
       "3    15\n",
       "Name: score, dtype: int64"
      ]
     },
     "execution_count": 4,
     "metadata": {},
     "output_type": "execute_result"
    }
   ],
   "source": [
    "# only pull out data from 4 first participants\n",
    "score_data = df['score'][0:4]\n",
    "score_data"
   ]
  },
  {
   "cell_type": "code",
   "execution_count": 5,
   "id": "3b723e95-33f2-46d7-9cc6-a9fb9a6c2576",
   "metadata": {},
   "outputs": [
    {
     "data": {
      "text/plain": [
       "age         21\n",
       "score       11\n",
       "rt       6.431\n",
       "group     test\n",
       "Name: 2, dtype: object"
      ]
     },
     "execution_count": 5,
     "metadata": {},
     "output_type": "execute_result"
    }
   ],
   "source": [
    "# extrating data from row instead of column\n",
    "score_data = df.loc[2] # use the loc attribute of a pandas dataframe\n",
    "score_data"
   ]
  },
  {
   "cell_type": "code",
   "execution_count": 9,
   "id": "a2f91dfb-8d1f-4085-b59f-e32ec2e49d1a",
   "metadata": {},
   "outputs": [
    {
     "name": "stdout",
     "output_type": "stream",
     "text": [
      "[np.int64(21), np.int64(11), np.float64(6.431), 'test']\n",
      "[12, 10, 11, 15, 16, 14, 25, 21, 29]\n"
     ]
    }
   ],
   "source": [
    "# get raw data out of a pandas series\n",
    "my_row = list(df.loc[2])\n",
    "my_column = list(df['score'])\n",
    "print(my_row)\n",
    "print(my_column)"
   ]
  },
  {
   "cell_type": "code",
   "execution_count": 16,
   "id": "557f8346-1f43-4d05-9dff-026a0569e360",
   "metadata": {},
   "outputs": [
    {
     "data": {
      "text/plain": [
       "[[17, 12, 3.552, 'test'],\n",
       " [19, 10, 1.624, 'test'],\n",
       " [21, 11, 6.431, 'test'],\n",
       " [37, 15, 7.132, 'test'],\n",
       " [18, 16, 2.925, 'test'],\n",
       " [19, 14, 4.662, 'control'],\n",
       " [47, 25, 3.634, 'control'],\n",
       " [18, 21, 3.635, 'control'],\n",
       " [19, 29, 5.234, 'control']]"
      ]
     },
     "execution_count": 16,
     "metadata": {},
     "output_type": "execute_result"
    }
   ],
   "source": [
    "# smart tips\n",
    "\n",
    "# see column variables\n",
    "list(df)\n",
    "\n",
    "# check how many columns and rows we have\n",
    "df.shape\n",
    "\n",
    "# see first data in df\n",
    "df.head(10) # default is 5, otherwise specify\n",
    "\n",
    "# see last data in df\n",
    "df.head(10) # default is 5, otherwise specify\n",
    "\n",
    "# get all data out of df and into a list\n",
    "df.values.tolist()"
   ]
  },
  {
   "cell_type": "markdown",
   "id": "61017c7c-768b-497b-893d-4590d710c676",
   "metadata": {},
   "source": [
    "## Tabulating and cross-tabulating data\n",
    "### cross-tabulation = the construction of frequency tables"
   ]
  },
  {
   "cell_type": "code",
   "execution_count": 17,
   "id": "81c1041c-79de-41aa-a343-6ace8ed44ca1",
   "metadata": {},
   "outputs": [
    {
     "data": {
      "text/html": [
       "<div>\n",
       "<style scoped>\n",
       "    .dataframe tbody tr th:only-of-type {\n",
       "        vertical-align: middle;\n",
       "    }\n",
       "\n",
       "    .dataframe tbody tr th {\n",
       "        vertical-align: top;\n",
       "    }\n",
       "\n",
       "    .dataframe thead th {\n",
       "        text-align: right;\n",
       "    }\n",
       "</style>\n",
       "<table border=\"1\" class=\"dataframe\">\n",
       "  <thead>\n",
       "    <tr style=\"text-align: right;\">\n",
       "      <th>col_0</th>\n",
       "      <th>count</th>\n",
       "    </tr>\n",
       "    <tr>\n",
       "      <th>speaker</th>\n",
       "      <th></th>\n",
       "    </tr>\n",
       "  </thead>\n",
       "  <tbody>\n",
       "    <tr>\n",
       "      <th>makka-pakka</th>\n",
       "      <td>4</td>\n",
       "    </tr>\n",
       "    <tr>\n",
       "      <th>tombliboo</th>\n",
       "      <td>2</td>\n",
       "    </tr>\n",
       "    <tr>\n",
       "      <th>upsy-daisy</th>\n",
       "      <td>4</td>\n",
       "    </tr>\n",
       "  </tbody>\n",
       "</table>\n",
       "</div>"
      ],
      "text/plain": [
       "col_0        count\n",
       "speaker           \n",
       "makka-pakka      4\n",
       "tombliboo        2\n",
       "upsy-daisy       4"
      ]
     },
     "execution_count": 17,
     "metadata": {},
     "output_type": "execute_result"
    }
   ],
   "source": [
    "# make df\n",
    "data = {'speaker':[\"upsy-daisy\",  \"upsy-daisy\",  \"upsy-daisy\",  \"upsy-daisy\",  \"tombliboo\",   \"tombliboo\",   \"makka-pakka\", \"makka-pakka\",\n",
    "  \"makka-pakka\", \"makka-pakka\"],\n",
    "       'utterance':[\"pip\", \"pip\", \"onk\", \"onk\", \"ee\",  \"oo\",  \"pip\", \"pip\", \"onk\", \"onk\"]}\n",
    "\n",
    "df = pd.DataFrame(data, columns=['speaker','utterance'])\n",
    "\n",
    "# cross-tabulate\n",
    "pd.crosstab(index = df[\"speaker\"], columns = \"count\")"
   ]
  },
  {
   "cell_type": "code",
   "execution_count": 18,
   "id": "04e77337-104a-48f9-a835-62a7cd404b20",
   "metadata": {},
   "outputs": [
    {
     "data": {
      "text/html": [
       "<div>\n",
       "<style scoped>\n",
       "    .dataframe tbody tr th:only-of-type {\n",
       "        vertical-align: middle;\n",
       "    }\n",
       "\n",
       "    .dataframe tbody tr th {\n",
       "        vertical-align: top;\n",
       "    }\n",
       "\n",
       "    .dataframe thead th {\n",
       "        text-align: right;\n",
       "    }\n",
       "</style>\n",
       "<table border=\"1\" class=\"dataframe\">\n",
       "  <thead>\n",
       "    <tr style=\"text-align: right;\">\n",
       "      <th>utterance</th>\n",
       "      <th>ee</th>\n",
       "      <th>onk</th>\n",
       "      <th>oo</th>\n",
       "      <th>pip</th>\n",
       "      <th>All</th>\n",
       "    </tr>\n",
       "    <tr>\n",
       "      <th>speaker</th>\n",
       "      <th></th>\n",
       "      <th></th>\n",
       "      <th></th>\n",
       "      <th></th>\n",
       "      <th></th>\n",
       "    </tr>\n",
       "  </thead>\n",
       "  <tbody>\n",
       "    <tr>\n",
       "      <th>makka-pakka</th>\n",
       "      <td>0</td>\n",
       "      <td>2</td>\n",
       "      <td>0</td>\n",
       "      <td>2</td>\n",
       "      <td>4</td>\n",
       "    </tr>\n",
       "    <tr>\n",
       "      <th>tombliboo</th>\n",
       "      <td>1</td>\n",
       "      <td>0</td>\n",
       "      <td>1</td>\n",
       "      <td>0</td>\n",
       "      <td>2</td>\n",
       "    </tr>\n",
       "    <tr>\n",
       "      <th>upsy-daisy</th>\n",
       "      <td>0</td>\n",
       "      <td>2</td>\n",
       "      <td>0</td>\n",
       "      <td>2</td>\n",
       "      <td>4</td>\n",
       "    </tr>\n",
       "    <tr>\n",
       "      <th>All</th>\n",
       "      <td>1</td>\n",
       "      <td>4</td>\n",
       "      <td>1</td>\n",
       "      <td>4</td>\n",
       "      <td>10</td>\n",
       "    </tr>\n",
       "  </tbody>\n",
       "</table>\n",
       "</div>"
      ],
      "text/plain": [
       "utterance    ee  onk  oo  pip  All\n",
       "speaker                           \n",
       "makka-pakka   0    2   0    2    4\n",
       "tombliboo     1    0   1    0    2\n",
       "upsy-daisy    0    2   0    2    4\n",
       "All           1    4   1    4   10"
      ]
     },
     "execution_count": 18,
     "metadata": {},
     "output_type": "execute_result"
    }
   ],
   "source": [
    "# instead we want to cross-tabulate the speakers with the utterances\n",
    "pd.crosstab(index=df[\"speaker\"], columns=df[\"utterance\"],margins=True)"
   ]
  },
  {
   "cell_type": "markdown",
   "id": "cf03763f-d9c7-4718-b980-55ac538d8425",
   "metadata": {},
   "source": [
    "## Transforming or recoding a variable\n",
    "## Useful mathematical functions\n",
    "## Slicing and dicing\n",
    "## Extracting a subset of a dataframe\n",
    "## Sorting, flipping, or merging datasets\n",
    "## Reshaping a dataset"
   ]
  }
 ],
 "metadata": {
  "kernelspec": {
   "display_name": "Python 3 ",
   "language": "python",
   "name": "python3"
  },
  "language_info": {
   "codemirror_mode": {
    "name": "ipython",
    "version": 3
   },
   "file_extension": ".py",
   "mimetype": "text/x-python",
   "name": "python",
   "nbconvert_exporter": "python",
   "pygments_lexer": "ipython3",
   "version": "3.10.14"
  }
 },
 "nbformat": 4,
 "nbformat_minor": 5
}
