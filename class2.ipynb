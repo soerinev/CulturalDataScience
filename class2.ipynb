{
 "cells": [
  {
   "cell_type": "markdown",
   "id": "bc6f82bf-7caf-43ea-aaae-3a432988f6fe",
   "metadata": {},
   "source": [
    "# Class 2\n",
    "\n",
    "You can create branches to have safe spaces to fuck about your code."
   ]
  },
  {
   "cell_type": "code",
   "execution_count": null,
   "id": "bb16d6b0-a4ab-4092-bb57-e253c032d622",
   "metadata": {},
   "outputs": [],
   "source": []
  }
 ],
 "metadata": {
  "kernelspec": {
   "display_name": "Python 3 ",
   "language": "python",
   "name": "python3"
  },
  "language_info": {
   "codemirror_mode": {
    "name": "ipython",
    "version": 3
   },
   "file_extension": ".py",
   "mimetype": "text/x-python",
   "name": "python",
   "nbconvert_exporter": "python",
   "pygments_lexer": "ipython3",
   "version": "3.10.14"
  }
 },
 "nbformat": 4,
 "nbformat_minor": 5
}
